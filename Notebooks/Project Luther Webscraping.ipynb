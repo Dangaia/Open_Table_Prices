{
 "cells": [
  {
   "cell_type": "markdown",
   "metadata": {
    "heading_collapsed": true
   },
   "source": [
    "## Imports"
   ]
  },
  {
   "cell_type": "code",
   "execution_count": 31,
   "metadata": {
    "collapsed": false,
    "hidden": true
   },
   "outputs": [],
   "source": [
    "from bs4 import BeautifulSoup\n",
    "import requests\n",
    "from selenium import webdriver\n",
    "from selenium.webdriver.common.keys import Keys\n",
    "import time\n",
    "import os\n",
    "import pickle\n",
    "import pandas as pd\n",
    "import numpy as np\n",
    "from urllib.request import urlopen\n",
    "from selenium.webdriver.common.by import By\n",
    "from selenium.webdriver.support.ui import WebDriverWait\n",
    "from selenium.common.exceptions import NoSuchElementException\n",
    "from selenium.common.exceptions import TimeoutException\n",
    "from selenium.common.exceptions import WebDriverException\n",
    "from selenium.webdriver.support import expected_conditions as EC"
   ]
  },
  {
   "cell_type": "markdown",
   "metadata": {
    "heading_collapsed": true
   },
   "source": [
    "## Start driver"
   ]
  },
  {
   "cell_type": "code",
   "execution_count": 32,
   "metadata": {
    "collapsed": false,
    "hidden": true
   },
   "outputs": [],
   "source": [
    "chromedriver = \"/Applications/chromedriver\"\n",
    "os.environ[\"webdriver.chrome.driver\"] = chromedriver   \n",
    "            \n",
    "driver = webdriver.Chrome(chromedriver)\n",
    "\n",
    "open_table_url = \"https://www.opentable.com/chicago-illinois-restaurant-listings\"\n",
    "\n",
    "driver.get(open_table_url)"
   ]
  },
  {
   "cell_type": "markdown",
   "metadata": {
    "heading_collapsed": true
   },
   "source": [
    "## Retrieve list of links from each page"
   ]
  },
  {
   "cell_type": "markdown",
   "metadata": {
    "hidden": true
   },
   "source": [
    "This code pulls each link from a page and then clicks to the next page to retrieve the links until it can no longer click next."
   ]
  },
  {
   "cell_type": "code",
   "execution_count": 1,
   "metadata": {
    "collapsed": false,
    "hidden": true
   },
   "outputs": [],
   "source": [
    "list_of_chicago_links = []\n",
    "\n",
    "while True:\n",
    "    try:\n",
    "        list_of_links = driver.find_elements_by_xpath(\"(//span[@class='rest-row-name-text'])\")\n",
    "\n",
    "        for link in list_of_links:\n",
    "            list_of_chicago_links.append(link.text)\n",
    "\n",
    "        driver.find_elements_by_css_selector(\"a.pagination-link.pagination-next\")[0].click()\n",
    "        time.sleep(5)\n",
    "    \n",
    "    except TimeoutException:\n",
    "        print(\"Continuing...\")"
   ]
  },
  {
   "cell_type": "markdown",
   "metadata": {
    "hidden": true
   },
   "source": [
    "Write links into pickle file"
   ]
  },
  {
   "cell_type": "code",
   "execution_count": 34,
   "metadata": {
    "collapsed": false,
    "hidden": true
   },
   "outputs": [],
   "source": [
    "pickle.dump(list_of_chicago_links, open(\"list_of_chicago_links2.p\", \"wb\"))"
   ]
  },
  {
   "cell_type": "code",
   "execution_count": null,
   "metadata": {
    "collapsed": true,
    "hidden": true
   },
   "outputs": [],
   "source": [
    "def open_table_page_to_links():\n",
    "    list_of_chicago_links = []\n",
    "    list_of_links = driver.find_elements_by_xpath(\"(//span[@class='rest-row-name-text'])\")\n",
    "\n",
    "    for link in list_of_links:\n",
    "    list_of_chicago_links.append(link.text)"
   ]
  },
  {
   "cell_type": "code",
   "execution_count": null,
   "metadata": {
    "collapsed": true,
    "hidden": true
   },
   "outputs": [],
   "source": [
    "links = open_table_page_to_links()\n",
    "all_restaurant_info = []\n",
    "for link in links:\n",
    "    restaurant_info = get_restaurant_info(link)\n",
    "    all_restaurant_info.append(restaurant_info)"
   ]
  },
  {
   "cell_type": "markdown",
   "metadata": {
    "hidden": true
   },
   "source": [
    "Reads links pickle file"
   ]
  },
  {
   "cell_type": "code",
   "execution_count": 3,
   "metadata": {
    "collapsed": false,
    "hidden": true
   },
   "outputs": [],
   "source": [
    "list_of_linktext = pickle.load(open('list_of_chicago_links2.p', 'rb'))"
   ]
  },
  {
   "cell_type": "markdown",
   "metadata": {
    "heading_collapsed": true
   },
   "source": [
    "## Functions"
   ]
  },
  {
   "cell_type": "code",
   "execution_count": 6,
   "metadata": {
    "collapsed": true,
    "hidden": true
   },
   "outputs": [],
   "source": [
    "def make_soup ():\n",
    "    soup = BeautifulSoup(driver.page_source, 'html.parser')\n",
    "    return soup\n",
    "\n",
    "def switch_to_window(index):\n",
    "    driver.switch_to.window(driver.window_handles[index])\n",
    "    soup = BeautifulSoup(driver.page_source, 'html.parser')\n",
    "    return soup\n",
    "    \n",
    "def switch_to_original_window():\n",
    "    time.sleep(5)\n",
    "    driver.back()\n",
    "    driver.switch_to.window(driver.window_handles[0])\n",
    "    soup = BeautifulSoup(driver.page_source, 'html.parser')\n",
    "    time.sleep(8)\n",
    "    return soup\n",
    "    \n",
    "def click_hours():\n",
    "    hours_button = driver.find_element_by_link_text('View Hours, Transportation, and Other Details')\n",
    "    hours_button.click()\n",
    "    time.sleep(1)\n",
    "    return hours_button\n",
    "\n",
    "def open_table_element(soup, index):\n",
    "    output_list = []\n",
    "    element = soup.find_all(\"span\", {\"class\":\"font-weight-medium\"})[index].next_sibling.next_sibling.text\n",
    "    output_list.append(element)\n",
    "    return output_list\n",
    "\n",
    "def open_table_rating(soup, index):\n",
    "    output_list = []\n",
    "    try:\n",
    "        element = soup.find_all(\"h6\", {\"class\":\"color-light\"})[index].next_sibling.text\n",
    "        element = float(element)\n",
    "        output_list.append(element)\n",
    "\n",
    "    except IndexError:\n",
    "        print(\"Element not on page...continuing script\")\n",
    "        output_list.append(np.nan) \n",
    "    return output_list\n",
    "\n",
    "def get_reviews():\n",
    "    try:\n",
    "\n",
    "        overall = []\n",
    "\n",
    "        for element in soup.find_all(class_= 'reviews-overall-score'):\n",
    "            rating = element.text\n",
    "            rating = float(rating)\n",
    "            overall.append(rating)\n",
    "\n",
    "        overall_rating.append(overall)\n",
    "\n",
    "    except NoSuchElementException:\n",
    "        print(\"Element not on page..continuing script\")\n",
    "        overall_rating.append(np.nan)\n",
    "        \n",
    "def get_prices():\n",
    "    try:\n",
    "        menu_button = driver.find_element_by_id('rest-menu-view-full')\n",
    "        menu_button.click()\n",
    "        time.sleep(5)\n",
    "        \n",
    "        prices = []\n",
    "\n",
    "        for element in soup.find_all(class_= 'rest-menu-item-price'):\n",
    "            price = element.text\n",
    "            price = price.replace('$','')\n",
    "            price = float(price)\n",
    "            prices.append(price)\n",
    "            \n",
    "        if len(prices) > 0:\n",
    "            price_avg = sum(prices)/(len(prices))\n",
    "            price_avg_list.append(price_avg)\n",
    "        \n",
    "        else:\n",
    "            price_avg_list.append(np.nan)\n",
    "\n",
    "        price_avg = sum(prices)/(len(prices))\n",
    "        price_avg_list.append(price_avg)\n",
    "        \n",
    "    except NoSuchElementException:\n",
    "        print(\"Element not on page..continuing script\")\n",
    "        price_avg_list.append(np.nan)\n",
    "        \n",
    "    return price_avg_list\n",
    "\n",
    "def open_table_rating(soup, index):\n",
    "    output_list = []\n",
    "    try:\n",
    "        element = soup_find_all_element(\"h6\", {\"class\":\"color-light\"})[index].next_sibling.text\n",
    "        element = float(element)\n",
    "        output_list.append(element)\n",
    "\n",
    "    except IndexError:\n",
    "        print(\"Element not on page...continuing script\")\n",
    "        output_list.append(np.nan) \n",
    "    return output_list\n",
    "\n",
    "def open_table_element(soup, index):\n",
    "    output_list = []\n",
    "    element = soup_find_all_element('span', 'class', 'font-weight-medium')[index].next_sibling.next_sibling.text\n",
    "    output_list.append(element)\n",
    "    return output_list"
   ]
  },
  {
   "cell_type": "markdown",
   "metadata": {
    "heading_collapsed": true
   },
   "source": [
    "## Make soup"
   ]
  },
  {
   "cell_type": "code",
   "execution_count": null,
   "metadata": {
    "collapsed": true,
    "hidden": true
   },
   "outputs": [],
   "source": [
    "make_soup()"
   ]
  },
  {
   "cell_type": "markdown",
   "metadata": {
    "heading_collapsed": true
   },
   "source": [
    "## Read in more pickle files"
   ]
  },
  {
   "cell_type": "code",
   "execution_count": 14,
   "metadata": {
    "collapsed": true,
    "hidden": true
   },
   "outputs": [],
   "source": [
    "value_list = pickle.load(open(\"value_list.p\", \"rb\"))\n",
    "price_avg_list = pickle.load(open(\"price_avg_list.p\", \"rb\" ))\n",
    "dining_style_list = pickle.load(open( \"dining_style_list.p\", \"rb\" ))\n",
    "dress_code_list = pickle.load(open( \"dress_code_list.p\", \"rb\" ))\n",
    "overall_rating = pickle.load(open( \"overall_rating.p\", \"rb\" ))\n",
    "food_list = pickle.load(open( \"food_list.p\", \"rb\" ))\n",
    "service_list = pickle.load(open( \"service_list.p\", \"rb\" ))\n",
    "ambience_list = pickle.load(open( \"ambience_list.p\", \"rb\" ))\n",
    "noise_list = pickle.load(open( \"noise_list.p\", \"rb\" ))\n",
    "cuisine_list = pickle.load(open( \"cuisine_list.p\", \"rb\" ))"
   ]
  },
  {
   "cell_type": "markdown",
   "metadata": {
    "heading_collapsed": true
   },
   "source": [
    "## Scrape data"
   ]
  },
  {
   "cell_type": "code",
   "execution_count": 7,
   "metadata": {
    "collapsed": false,
    "hidden": true,
    "scrolled": true
   },
   "outputs": [],
   "source": [
    "\"\"\"The below commented areas weren't commented out. I commented them out so I could keep appending data to them and not overwrite anything\"\"\"\n",
    "\n",
    "# price_avg_list = []\n",
    "# dining_style_list = []\n",
    "# cuisine_list = []\n",
    "# dress_code_list = []\n",
    "# overall_rating = []\n",
    "# food_list = []\n",
    "# service_list = []\n",
    "# ambience_list = []\n",
    "# value_list = []\n",
    "# noise_list = []\n",
    "\n",
    "# counter = 1\n",
    "\n",
    "# link_text_list = list_of_linktext[74:76]\n",
    "# link_text_list2 = list_of_linktext[76:100]\n",
    "# link_text_list4 = list_of_linktext[135:200]\n",
    "# link_text_list5 = list_of_linktext[198:205]\n",
    "link_text_list8 = list_of_linktext[205:]\n",
    "\n",
    "for linktext in link_text_list8:\n",
    "    while True:\n",
    "        \n",
    "        try:\n",
    "\n",
    "            driver.find_element_by_link_text(linktext).click()\n",
    "            time.sleep(5)\n",
    "\n",
    "            switch_to_window(-1)\n",
    "            \n",
    "            make_soup()\n",
    "            \n",
    "            get_prices()\n",
    "\n",
    "            get_reviews()\n",
    "\n",
    "            #food rating\n",
    "            open_table_rating(soup, 0)\n",
    "            \n",
    "            #service rating\n",
    "            open_table_rating(soup, 1)\n",
    "            \n",
    "            #ambience rating\n",
    "            open_table_rating(soup, 2)\n",
    "\n",
    "            #value rating\n",
    "            open_table_rating(soup, 3)\n",
    "            \n",
    "            #noise rating\n",
    "            open_table_rating(soup,4)\n",
    "\n",
    "            hours_button = driver.find_element_by_link_text('View Hours, Transportation, and Other Details')\n",
    "            hours_button.click()\n",
    "            time.sleep(8)\n",
    "\n",
    "            dining_style_list = open_table_element(soup, 0)\n",
    "            \n",
    "            cuisine_list = open_table_element(soup, 1)\n",
    "            \n",
    "            dress_code_list = open_table_element(soup, 4)\n",
    "\n",
    "            switch_to_original_window()\n",
    "\n",
    "            break\n",
    "\n",
    "        except (NoSuchElementException, TimeoutException):\n",
    "\n",
    "            driver.switch_to.window(driver.window_handles[0])\n",
    "            soup = BeautifulSoup(driver.page_source, 'html.parser')\n",
    "            driver.execute_script('window.scrollTo(0, 0)')\n",
    "            driver.find_elements_by_css_selector(\"a.pagination-link.pagination-next\")[0].click()\n",
    "            time.sleep(8)\n",
    "    \n",
    "    print('Status: Done.')\n",
    "    print(linktext)\n",
    "    counter+=1"
   ]
  },
  {
   "cell_type": "markdown",
   "metadata": {
    "heading_collapsed": true
   },
   "source": [
    "## Pickle scraped data"
   ]
  },
  {
   "cell_type": "code",
   "execution_count": 55,
   "metadata": {
    "collapsed": false,
    "hidden": true
   },
   "outputs": [],
   "source": [
    "import pickle\n",
    "\n",
    "pickle.dump(value_list, open( \"value_list.p\", \"wb\" ))\n",
    "pickle.dump(price_avg_list, open( \"price_avg_list.p\", \"wb\" ))\n",
    "pickle.dump(dining_style_list, open( \"dining_style_list.p\", \"wb\" ))\n",
    "pickle.dump(dress_code_list, open( \"dress_code_list.p\", \"wb\" ))\n",
    "pickle.dump(overall_rating, open( \"overall_rating.p\", \"wb\" ))\n",
    "pickle.dump(food_list, open( \"food_list.p\", \"wb\" ))\n",
    "pickle.dump(service_list, open( \"service_list.p\", \"wb\" ))\n",
    "pickle.dump(ambience_list, open( \"ambience_list.p\", \"wb\" ))\n",
    "pickle.dump(noise_list, open( \"noise_list.p\", \"wb\" ))\n",
    "pickle.dump(cuisine_list, open( \"cuisine_list.p\", \"wb\" ))"
   ]
  },
  {
   "cell_type": "markdown",
   "metadata": {
    "heading_collapsed": true
   },
   "source": [
    "## Close driver"
   ]
  },
  {
   "cell_type": "code",
   "execution_count": 5,
   "metadata": {
    "collapsed": false,
    "hidden": true
   },
   "outputs": [],
   "source": [
    "driver.close"
   ]
  }
 ],
 "metadata": {
  "kernelspec": {
   "display_name": "Python 3",
   "language": "python",
   "name": "python3"
  },
  "language_info": {
   "codemirror_mode": {
    "name": "ipython",
    "version": 3
   },
   "file_extension": ".py",
   "mimetype": "text/x-python",
   "name": "python",
   "nbconvert_exporter": "python",
   "pygments_lexer": "ipython3",
   "version": "3.6.0"
  },
  "toc": {
   "colors": {
    "hover_highlight": "#DAA520",
    "running_highlight": "#FF0000",
    "selected_highlight": "#FFD700"
   },
   "moveMenuLeft": true,
   "nav_menu": {
    "height": "12px",
    "width": "252px"
   },
   "navigate_menu": true,
   "number_sections": true,
   "sideBar": true,
   "threshold": 4,
   "toc_cell": false,
   "toc_section_display": "block",
   "toc_window_display": false,
   "widenNotebook": false
  }
 },
 "nbformat": 4,
 "nbformat_minor": 2
}
