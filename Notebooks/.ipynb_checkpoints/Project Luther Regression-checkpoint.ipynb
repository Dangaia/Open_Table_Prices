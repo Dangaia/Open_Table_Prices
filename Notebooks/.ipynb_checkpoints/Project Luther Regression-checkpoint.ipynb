{
 "cells": [
  {
   "cell_type": "markdown",
   "metadata": {},
   "source": [
    "## Imports"
   ]
  },
  {
   "cell_type": "code",
   "execution_count": 3,
   "metadata": {
    "collapsed": false
   },
   "outputs": [
    {
     "name": "stderr",
     "output_type": "stream",
     "text": [
      "/Users/Dangaia/anaconda/lib/python3.6/site-packages/sklearn/cross_validation.py:44: DeprecationWarning: This module was deprecated in version 0.18 in favor of the model_selection module into which all the refactored classes and functions are moved. Also note that the interface of the new CV iterators are different from that of this module. This module will be removed in 0.20.\n",
      "  \"This module will be removed in 0.20.\", DeprecationWarning)\n"
     ]
    }
   ],
   "source": [
    "import numpy as np\n",
    "import pandas as pd\n",
    "import pickle\n",
    "import scipy.stats as stats\n",
    "import matplotlib.pyplot as plt\n",
    "import matplotlib.mlab as mlab\n",
    "import statsmodels.api as sm\n",
    "import statsmodels.formula.api as smf\n",
    "import sklearn\n",
    "import seaborn as sns\n",
    "from sklearn.linear_model import RidgeCV\n",
    "from sklearn.linear_model import LassoCV\n",
    "from sklearn.linear_model import LinearRegression\n",
    "from sklearn.cross_validation import train_test_split\n",
    "from sklearn.cross_validation import cross_val_score\n",
    "from sklearn.cross_validation import cross_val_predict\n",
    "from sklearn import preprocessing\n",
    "\n",
    "%matplotlib inline"
   ]
  },
  {
   "cell_type": "markdown",
   "metadata": {
    "heading_collapsed": true
   },
   "source": [
    "## Import pickles"
   ]
  },
  {
   "cell_type": "code",
   "execution_count": 4,
   "metadata": {
    "collapsed": true,
    "hidden": true
   },
   "outputs": [],
   "source": [
    "restaurant_names = pickle.load(open('list_of_chicago_links.p', 'rb'))\n",
    "price_avg_list = pickle.load(open(\"price_avg_list.p\", \"rb\"))\n",
    "dining_styles_list = pickle.load(open(\"dining_style_list.p\", \"rb\"))\n",
    "dress_codes_list = pickle.load(open(\"dress_code_list.p\", \"rb\"))\n",
    "overall_rating = pickle.load(open(\"overall_rating.p\", \"rb\"))\n",
    "food_list = pickle.load(open(\"food_list.p\", \"rb\"))\n",
    "service_list = pickle.load(open(\"service_list.p\", \"rb\"))\n",
    "ambience_list = pickle.load(open(\"ambience_list.p\", \"rb\"))\n",
    "noise_list = pickle.load(open(\"noise_list.p\", \"rb\"))\n",
    "cuisine_list = pickle.load(open(\"cuisine_list.p\", \"rb\"))"
   ]
  },
  {
   "cell_type": "markdown",
   "metadata": {
    "heading_collapsed": true
   },
   "source": [
    "## Make rows the same length"
   ]
  },
  {
   "cell_type": "markdown",
   "metadata": {
    "hidden": true
   },
   "source": [
    "I accidentally scraped a few more rows for some variables when I went back and scraped, so I deleted those extra ones"
   ]
  },
  {
   "cell_type": "code",
   "execution_count": 5,
   "metadata": {
    "collapsed": false,
    "hidden": true
   },
   "outputs": [],
   "source": [
    "del restaurant_names[2284:]\n",
    "del price_avg_list[2284:]\n",
    "del dining_styles_list[2284:]\n",
    "del dress_codes_list[2284:]\n",
    "del overall_rating[2284:]\n",
    "del food_list[2284:]\n",
    "del service_list[2284:]\n",
    "del ambience_list[2284:]\n",
    "del noise_list[2284:]\n",
    "del cuisine_list[2284:]"
   ]
  },
  {
   "cell_type": "markdown",
   "metadata": {
    "heading_collapsed": true
   },
   "source": [
    "## Make DataFrame"
   ]
  },
  {
   "cell_type": "code",
   "execution_count": 7,
   "metadata": {
    "collapsed": false,
    "hidden": true
   },
   "outputs": [
    {
     "data": {
      "text/html": [
       "<div>\n",
       "<table border=\"1\" class=\"dataframe\">\n",
       "  <thead>\n",
       "    <tr style=\"text-align: right;\">\n",
       "      <th></th>\n",
       "      <th>ambience_rating</th>\n",
       "      <th>average_price</th>\n",
       "      <th>cuisine_type</th>\n",
       "      <th>dress_code</th>\n",
       "      <th>food_rating</th>\n",
       "      <th>noise_rating</th>\n",
       "      <th>overall_rating</th>\n",
       "      <th>restaurant</th>\n",
       "      <th>service_rating</th>\n",
       "    </tr>\n",
       "  </thead>\n",
       "  <tbody>\n",
       "    <tr>\n",
       "      <th>0</th>\n",
       "      <td>NaN</td>\n",
       "      <td>NaN</td>\n",
       "      <td>Chinese</td>\n",
       "      <td></td>\n",
       "      <td>NaN</td>\n",
       "      <td>NaN</td>\n",
       "      <td>[]</td>\n",
       "      <td>1 Chop Suey</td>\n",
       "      <td>NaN</td>\n",
       "    </tr>\n",
       "    <tr>\n",
       "      <th>1</th>\n",
       "      <td>4.5</td>\n",
       "      <td>7.440000</td>\n",
       "      <td>Contemporary American, Comfort Food, Bar / Lou...</td>\n",
       "      <td>Smart Casual</td>\n",
       "      <td>3.7</td>\n",
       "      <td>3.9</td>\n",
       "      <td>[4.3]</td>\n",
       "      <td>10pin Bowling Lounge</td>\n",
       "      <td>4.0</td>\n",
       "    </tr>\n",
       "    <tr>\n",
       "      <th>2</th>\n",
       "      <td>NaN</td>\n",
       "      <td>NaN</td>\n",
       "      <td>Caribbean</td>\n",
       "      <td></td>\n",
       "      <td>NaN</td>\n",
       "      <td>NaN</td>\n",
       "      <td>[]</td>\n",
       "      <td>1492 Cuban Fusion Inc</td>\n",
       "      <td>NaN</td>\n",
       "    </tr>\n",
       "    <tr>\n",
       "      <th>3</th>\n",
       "      <td>4.0</td>\n",
       "      <td>10.064655</td>\n",
       "      <td>Contemporary American</td>\n",
       "      <td>Business Casual</td>\n",
       "      <td>4.1</td>\n",
       "      <td>3.8</td>\n",
       "      <td>[4.3]</td>\n",
       "      <td>1901 Restaurant at AceBounce</td>\n",
       "      <td>4.1</td>\n",
       "    </tr>\n",
       "    <tr>\n",
       "      <th>4</th>\n",
       "      <td>NaN</td>\n",
       "      <td>NaN</td>\n",
       "      <td>American</td>\n",
       "      <td></td>\n",
       "      <td>NaN</td>\n",
       "      <td>NaN</td>\n",
       "      <td>[]</td>\n",
       "      <td>1914</td>\n",
       "      <td>NaN</td>\n",
       "    </tr>\n",
       "  </tbody>\n",
       "</table>\n",
       "</div>"
      ],
      "text/plain": [
       "   ambience_rating  average_price  \\\n",
       "0              NaN            NaN   \n",
       "1              4.5       7.440000   \n",
       "2              NaN            NaN   \n",
       "3              4.0      10.064655   \n",
       "4              NaN            NaN   \n",
       "\n",
       "                                        cuisine_type       dress_code  \\\n",
       "0                                            Chinese                    \n",
       "1  Contemporary American, Comfort Food, Bar / Lou...     Smart Casual   \n",
       "2                                          Caribbean                    \n",
       "3                              Contemporary American  Business Casual   \n",
       "4                                           American                    \n",
       "\n",
       "   food_rating  noise_rating overall_rating                    restaurant  \\\n",
       "0          NaN           NaN             []                   1 Chop Suey   \n",
       "1          3.7           3.9          [4.3]          10pin Bowling Lounge   \n",
       "2          NaN           NaN             []         1492 Cuban Fusion Inc   \n",
       "3          4.1           3.8          [4.3]  1901 Restaurant at AceBounce   \n",
       "4          NaN           NaN             []                          1914   \n",
       "\n",
       "   service_rating  \n",
       "0             NaN  \n",
       "1             4.0  \n",
       "2             NaN  \n",
       "3             4.1  \n",
       "4             NaN  "
      ]
     },
     "execution_count": 7,
     "metadata": {},
     "output_type": "execute_result"
    }
   ],
   "source": [
    "headers = ['restaurant', 'average_price', 'dress_code', 'overall_rating', 'food_rating', 'service_rating', 'ambience_rating', 'noise_rating', 'cuisine_type']\n",
    "\n",
    "open_table_dict = dict(zip(headers, [restaurant_names, price_avg_list, dress_codes_list, overall_rating, food_list, service_list, ambience_list, noise_list, cuisine_list]))\n",
    "open_table = pd.DataFrame.from_dict(open_table_dict)\n",
    "open_table.head()"
   ]
  },
  {
   "cell_type": "markdown",
   "metadata": {
    "heading_collapsed": true
   },
   "source": [
    "## Cleaned dress code and overall rating columns"
   ]
  },
  {
   "cell_type": "code",
   "execution_count": 8,
   "metadata": {
    "collapsed": false,
    "hidden": true
   },
   "outputs": [],
   "source": [
    "open_table_df2 = open_table['dress_code'].apply(lambda x: x.strip()).replace('', np.nan)"
   ]
  },
  {
   "cell_type": "code",
   "execution_count": 9,
   "metadata": {
    "collapsed": false,
    "hidden": true
   },
   "outputs": [
    {
     "data": {
      "text/html": [
       "<div>\n",
       "<table border=\"1\" class=\"dataframe\">\n",
       "  <thead>\n",
       "    <tr style=\"text-align: right;\">\n",
       "      <th></th>\n",
       "      <th>ambience_rating</th>\n",
       "      <th>average_price</th>\n",
       "      <th>cuisine_type</th>\n",
       "      <th>dress_code</th>\n",
       "      <th>food_rating</th>\n",
       "      <th>noise_rating</th>\n",
       "      <th>overall_rating</th>\n",
       "      <th>restaurant</th>\n",
       "      <th>service_rating</th>\n",
       "    </tr>\n",
       "  </thead>\n",
       "  <tbody>\n",
       "    <tr>\n",
       "      <th>0</th>\n",
       "      <td>NaN</td>\n",
       "      <td>NaN</td>\n",
       "      <td>Chinese</td>\n",
       "      <td>NaN</td>\n",
       "      <td>NaN</td>\n",
       "      <td>NaN</td>\n",
       "      <td>[]</td>\n",
       "      <td>1 Chop Suey</td>\n",
       "      <td>NaN</td>\n",
       "    </tr>\n",
       "    <tr>\n",
       "      <th>1</th>\n",
       "      <td>4.5</td>\n",
       "      <td>7.440000</td>\n",
       "      <td>Contemporary American, Comfort Food, Bar / Lou...</td>\n",
       "      <td>Smart Casual</td>\n",
       "      <td>3.7</td>\n",
       "      <td>3.9</td>\n",
       "      <td>[4.3]</td>\n",
       "      <td>10pin Bowling Lounge</td>\n",
       "      <td>4.0</td>\n",
       "    </tr>\n",
       "    <tr>\n",
       "      <th>2</th>\n",
       "      <td>NaN</td>\n",
       "      <td>NaN</td>\n",
       "      <td>Caribbean</td>\n",
       "      <td>NaN</td>\n",
       "      <td>NaN</td>\n",
       "      <td>NaN</td>\n",
       "      <td>[]</td>\n",
       "      <td>1492 Cuban Fusion Inc</td>\n",
       "      <td>NaN</td>\n",
       "    </tr>\n",
       "    <tr>\n",
       "      <th>3</th>\n",
       "      <td>4.0</td>\n",
       "      <td>10.064655</td>\n",
       "      <td>Contemporary American</td>\n",
       "      <td>Business Casual</td>\n",
       "      <td>4.1</td>\n",
       "      <td>3.8</td>\n",
       "      <td>[4.3]</td>\n",
       "      <td>1901 Restaurant at AceBounce</td>\n",
       "      <td>4.1</td>\n",
       "    </tr>\n",
       "    <tr>\n",
       "      <th>4</th>\n",
       "      <td>NaN</td>\n",
       "      <td>NaN</td>\n",
       "      <td>American</td>\n",
       "      <td>NaN</td>\n",
       "      <td>NaN</td>\n",
       "      <td>NaN</td>\n",
       "      <td>[]</td>\n",
       "      <td>1914</td>\n",
       "      <td>NaN</td>\n",
       "    </tr>\n",
       "  </tbody>\n",
       "</table>\n",
       "</div>"
      ],
      "text/plain": [
       "   ambience_rating  average_price  \\\n",
       "0              NaN            NaN   \n",
       "1              4.5       7.440000   \n",
       "2              NaN            NaN   \n",
       "3              4.0      10.064655   \n",
       "4              NaN            NaN   \n",
       "\n",
       "                                        cuisine_type       dress_code  \\\n",
       "0                                            Chinese              NaN   \n",
       "1  Contemporary American, Comfort Food, Bar / Lou...     Smart Casual   \n",
       "2                                          Caribbean              NaN   \n",
       "3                              Contemporary American  Business Casual   \n",
       "4                                           American              NaN   \n",
       "\n",
       "   food_rating  noise_rating overall_rating                    restaurant  \\\n",
       "0          NaN           NaN             []                   1 Chop Suey   \n",
       "1          3.7           3.9          [4.3]          10pin Bowling Lounge   \n",
       "2          NaN           NaN             []         1492 Cuban Fusion Inc   \n",
       "3          4.1           3.8          [4.3]  1901 Restaurant at AceBounce   \n",
       "4          NaN           NaN             []                          1914   \n",
       "\n",
       "   service_rating  \n",
       "0             NaN  \n",
       "1             4.0  \n",
       "2             NaN  \n",
       "3             4.1  \n",
       "4             NaN  "
      ]
     },
     "execution_count": 9,
     "metadata": {},
     "output_type": "execute_result"
    }
   ],
   "source": [
    "open_table['dress_code'] = open_table_df2\n",
    "open_table.head()"
   ]
  },
  {
   "cell_type": "code",
   "execution_count": 10,
   "metadata": {
    "collapsed": false,
    "hidden": true
   },
   "outputs": [],
   "source": [
    "def clean_overall_rating(el):\n",
    "    empty_list = []\n",
    "    if el == empty_list:\n",
    "        return np.nan\n",
    "    elif len(el) > 0:\n",
    "        return el[0]\n",
    "    else:\n",
    "        return 'error'"
   ]
  },
  {
   "cell_type": "code",
   "execution_count": 11,
   "metadata": {
    "collapsed": false,
    "hidden": true
   },
   "outputs": [
    {
     "data": {
      "text/plain": [
       "array([ nan,  4.3,  4.2,  4.7,  4.5,  3.9,  4.6,  4.1,  4. ,  3.6,  4.4,\n",
       "        4.8,  3.4,  3. ,  3.3,  3.7,  3.2,  4.9,  3.8,  5. ,  1. ,  2.3,\n",
       "        2.5,  3.5,  3.1])"
      ]
     },
     "execution_count": 11,
     "metadata": {},
     "output_type": "execute_result"
    }
   ],
   "source": [
    "overall_rating_func = open_table['overall_rating'].apply(lambda x: clean_overall_rating(x))\n",
    "overall_rating_func.unique()"
   ]
  },
  {
   "cell_type": "code",
   "execution_count": 12,
   "metadata": {
    "collapsed": false,
    "hidden": true
   },
   "outputs": [
    {
     "data": {
      "text/html": [
       "<div>\n",
       "<table border=\"1\" class=\"dataframe\">\n",
       "  <thead>\n",
       "    <tr style=\"text-align: right;\">\n",
       "      <th></th>\n",
       "      <th>ambience_rating</th>\n",
       "      <th>average_price</th>\n",
       "      <th>cuisine_type</th>\n",
       "      <th>dress_code</th>\n",
       "      <th>food_rating</th>\n",
       "      <th>noise_rating</th>\n",
       "      <th>overall_rating</th>\n",
       "      <th>restaurant</th>\n",
       "      <th>service_rating</th>\n",
       "    </tr>\n",
       "  </thead>\n",
       "  <tbody>\n",
       "    <tr>\n",
       "      <th>0</th>\n",
       "      <td>NaN</td>\n",
       "      <td>NaN</td>\n",
       "      <td>Chinese</td>\n",
       "      <td>NaN</td>\n",
       "      <td>NaN</td>\n",
       "      <td>NaN</td>\n",
       "      <td>NaN</td>\n",
       "      <td>1 Chop Suey</td>\n",
       "      <td>NaN</td>\n",
       "    </tr>\n",
       "    <tr>\n",
       "      <th>1</th>\n",
       "      <td>4.5</td>\n",
       "      <td>7.440000</td>\n",
       "      <td>Contemporary American, Comfort Food, Bar / Lou...</td>\n",
       "      <td>Smart Casual</td>\n",
       "      <td>3.7</td>\n",
       "      <td>3.9</td>\n",
       "      <td>4.3</td>\n",
       "      <td>10pin Bowling Lounge</td>\n",
       "      <td>4.0</td>\n",
       "    </tr>\n",
       "    <tr>\n",
       "      <th>2</th>\n",
       "      <td>NaN</td>\n",
       "      <td>NaN</td>\n",
       "      <td>Caribbean</td>\n",
       "      <td>NaN</td>\n",
       "      <td>NaN</td>\n",
       "      <td>NaN</td>\n",
       "      <td>NaN</td>\n",
       "      <td>1492 Cuban Fusion Inc</td>\n",
       "      <td>NaN</td>\n",
       "    </tr>\n",
       "    <tr>\n",
       "      <th>3</th>\n",
       "      <td>4.0</td>\n",
       "      <td>10.064655</td>\n",
       "      <td>Contemporary American</td>\n",
       "      <td>Business Casual</td>\n",
       "      <td>4.1</td>\n",
       "      <td>3.8</td>\n",
       "      <td>4.3</td>\n",
       "      <td>1901 Restaurant at AceBounce</td>\n",
       "      <td>4.1</td>\n",
       "    </tr>\n",
       "    <tr>\n",
       "      <th>4</th>\n",
       "      <td>NaN</td>\n",
       "      <td>NaN</td>\n",
       "      <td>American</td>\n",
       "      <td>NaN</td>\n",
       "      <td>NaN</td>\n",
       "      <td>NaN</td>\n",
       "      <td>NaN</td>\n",
       "      <td>1914</td>\n",
       "      <td>NaN</td>\n",
       "    </tr>\n",
       "  </tbody>\n",
       "</table>\n",
       "</div>"
      ],
      "text/plain": [
       "   ambience_rating  average_price  \\\n",
       "0              NaN            NaN   \n",
       "1              4.5       7.440000   \n",
       "2              NaN            NaN   \n",
       "3              4.0      10.064655   \n",
       "4              NaN            NaN   \n",
       "\n",
       "                                        cuisine_type       dress_code  \\\n",
       "0                                            Chinese              NaN   \n",
       "1  Contemporary American, Comfort Food, Bar / Lou...     Smart Casual   \n",
       "2                                          Caribbean              NaN   \n",
       "3                              Contemporary American  Business Casual   \n",
       "4                                           American              NaN   \n",
       "\n",
       "   food_rating  noise_rating  overall_rating                    restaurant  \\\n",
       "0          NaN           NaN             NaN                   1 Chop Suey   \n",
       "1          3.7           3.9             4.3          10pin Bowling Lounge   \n",
       "2          NaN           NaN             NaN         1492 Cuban Fusion Inc   \n",
       "3          4.1           3.8             4.3  1901 Restaurant at AceBounce   \n",
       "4          NaN           NaN             NaN                          1914   \n",
       "\n",
       "   service_rating  \n",
       "0             NaN  \n",
       "1             4.0  \n",
       "2             NaN  \n",
       "3             4.1  \n",
       "4             NaN  "
      ]
     },
     "execution_count": 12,
     "metadata": {},
     "output_type": "execute_result"
    }
   ],
   "source": [
    "open_table['overall_rating'] = overall_rating_func\n",
    "open_table.head()"
   ]
  },
  {
   "cell_type": "markdown",
   "metadata": {
    "heading_collapsed": true
   },
   "source": [
    "## Remove rows with NaNs"
   ]
  },
  {
   "cell_type": "code",
   "execution_count": 13,
   "metadata": {
    "collapsed": false,
    "hidden": true
   },
   "outputs": [
    {
     "data": {
      "text/html": [
       "<div>\n",
       "<table border=\"1\" class=\"dataframe\">\n",
       "  <thead>\n",
       "    <tr style=\"text-align: right;\">\n",
       "      <th></th>\n",
       "      <th>ambience_rating</th>\n",
       "      <th>average_price</th>\n",
       "      <th>cuisine_type</th>\n",
       "      <th>dress_code</th>\n",
       "      <th>food_rating</th>\n",
       "      <th>noise_rating</th>\n",
       "      <th>overall_rating</th>\n",
       "      <th>restaurant</th>\n",
       "      <th>service_rating</th>\n",
       "    </tr>\n",
       "  </thead>\n",
       "  <tbody>\n",
       "    <tr>\n",
       "      <th>1</th>\n",
       "      <td>4.5</td>\n",
       "      <td>7.440000</td>\n",
       "      <td>Contemporary American, Comfort Food, Bar / Lou...</td>\n",
       "      <td>Smart Casual</td>\n",
       "      <td>3.7</td>\n",
       "      <td>3.9</td>\n",
       "      <td>4.3</td>\n",
       "      <td>10pin Bowling Lounge</td>\n",
       "      <td>4.0</td>\n",
       "    </tr>\n",
       "    <tr>\n",
       "      <th>3</th>\n",
       "      <td>4.0</td>\n",
       "      <td>10.064655</td>\n",
       "      <td>Contemporary American</td>\n",
       "      <td>Business Casual</td>\n",
       "      <td>4.1</td>\n",
       "      <td>3.8</td>\n",
       "      <td>4.3</td>\n",
       "      <td>1901 Restaurant at AceBounce</td>\n",
       "      <td>4.1</td>\n",
       "    </tr>\n",
       "    <tr>\n",
       "      <th>5</th>\n",
       "      <td>4.1</td>\n",
       "      <td>8.680000</td>\n",
       "      <td>American</td>\n",
       "      <td>Casual Dress</td>\n",
       "      <td>4.2</td>\n",
       "      <td>4.2</td>\n",
       "      <td>4.2</td>\n",
       "      <td>1959 Kitchen &amp; Bar</td>\n",
       "      <td>4.3</td>\n",
       "    </tr>\n",
       "    <tr>\n",
       "      <th>9</th>\n",
       "      <td>4.5</td>\n",
       "      <td>8.398305</td>\n",
       "      <td>American, Burgers, Comfort Food</td>\n",
       "      <td>Casual Dress</td>\n",
       "      <td>4.5</td>\n",
       "      <td>4.5</td>\n",
       "      <td>4.7</td>\n",
       "      <td>25 Degrees</td>\n",
       "      <td>4.6</td>\n",
       "    </tr>\n",
       "    <tr>\n",
       "      <th>10</th>\n",
       "      <td>NaN</td>\n",
       "      <td>8.960000</td>\n",
       "      <td>Burgers, American, Bar / Lounge / Bottle Service</td>\n",
       "      <td>Casual Dress</td>\n",
       "      <td>NaN</td>\n",
       "      <td>NaN</td>\n",
       "      <td>NaN</td>\n",
       "      <td>25 Degrees Wicker Park</td>\n",
       "      <td>NaN</td>\n",
       "    </tr>\n",
       "  </tbody>\n",
       "</table>\n",
       "</div>"
      ],
      "text/plain": [
       "    ambience_rating  average_price  \\\n",
       "1               4.5       7.440000   \n",
       "3               4.0      10.064655   \n",
       "5               4.1       8.680000   \n",
       "9               4.5       8.398305   \n",
       "10              NaN       8.960000   \n",
       "\n",
       "                                         cuisine_type       dress_code  \\\n",
       "1   Contemporary American, Comfort Food, Bar / Lou...     Smart Casual   \n",
       "3                               Contemporary American  Business Casual   \n",
       "5                                            American     Casual Dress   \n",
       "9                     American, Burgers, Comfort Food     Casual Dress   \n",
       "10   Burgers, American, Bar / Lounge / Bottle Service     Casual Dress   \n",
       "\n",
       "    food_rating  noise_rating  overall_rating                    restaurant  \\\n",
       "1           3.7           3.9             4.3          10pin Bowling Lounge   \n",
       "3           4.1           3.8             4.3  1901 Restaurant at AceBounce   \n",
       "5           4.2           4.2             4.2            1959 Kitchen & Bar   \n",
       "9           4.5           4.5             4.7                    25 Degrees   \n",
       "10          NaN           NaN             NaN        25 Degrees Wicker Park   \n",
       "\n",
       "    service_rating  \n",
       "1              4.0  \n",
       "3              4.1  \n",
       "5              4.3  \n",
       "9              4.6  \n",
       "10             NaN  "
      ]
     },
     "execution_count": 13,
     "metadata": {},
     "output_type": "execute_result"
    }
   ],
   "source": [
    "open_table = open_table[np.isfinite(open_table['average_price'])]\n",
    "open_table.head()"
   ]
  },
  {
   "cell_type": "code",
   "execution_count": 14,
   "metadata": {
    "collapsed": false,
    "hidden": true
   },
   "outputs": [
    {
     "data": {
      "text/html": [
       "<div>\n",
       "<table border=\"1\" class=\"dataframe\">\n",
       "  <thead>\n",
       "    <tr style=\"text-align: right;\">\n",
       "      <th></th>\n",
       "      <th>ambience_rating</th>\n",
       "      <th>average_price</th>\n",
       "      <th>cuisine_type</th>\n",
       "      <th>dress_code</th>\n",
       "      <th>food_rating</th>\n",
       "      <th>noise_rating</th>\n",
       "      <th>overall_rating</th>\n",
       "      <th>restaurant</th>\n",
       "      <th>service_rating</th>\n",
       "    </tr>\n",
       "  </thead>\n",
       "  <tbody>\n",
       "    <tr>\n",
       "      <th>1</th>\n",
       "      <td>4.5</td>\n",
       "      <td>7.440000</td>\n",
       "      <td>Contemporary American, Comfort Food, Bar / Lou...</td>\n",
       "      <td>Smart Casual</td>\n",
       "      <td>3.7</td>\n",
       "      <td>3.9</td>\n",
       "      <td>4.3</td>\n",
       "      <td>10pin Bowling Lounge</td>\n",
       "      <td>4.0</td>\n",
       "    </tr>\n",
       "    <tr>\n",
       "      <th>3</th>\n",
       "      <td>4.0</td>\n",
       "      <td>10.064655</td>\n",
       "      <td>Contemporary American</td>\n",
       "      <td>Business Casual</td>\n",
       "      <td>4.1</td>\n",
       "      <td>3.8</td>\n",
       "      <td>4.3</td>\n",
       "      <td>1901 Restaurant at AceBounce</td>\n",
       "      <td>4.1</td>\n",
       "    </tr>\n",
       "    <tr>\n",
       "      <th>5</th>\n",
       "      <td>4.1</td>\n",
       "      <td>8.680000</td>\n",
       "      <td>American</td>\n",
       "      <td>Casual Dress</td>\n",
       "      <td>4.2</td>\n",
       "      <td>4.2</td>\n",
       "      <td>4.2</td>\n",
       "      <td>1959 Kitchen &amp; Bar</td>\n",
       "      <td>4.3</td>\n",
       "    </tr>\n",
       "    <tr>\n",
       "      <th>9</th>\n",
       "      <td>4.5</td>\n",
       "      <td>8.398305</td>\n",
       "      <td>American, Burgers, Comfort Food</td>\n",
       "      <td>Casual Dress</td>\n",
       "      <td>4.5</td>\n",
       "      <td>4.5</td>\n",
       "      <td>4.7</td>\n",
       "      <td>25 Degrees</td>\n",
       "      <td>4.6</td>\n",
       "    </tr>\n",
       "    <tr>\n",
       "      <th>20</th>\n",
       "      <td>4.5</td>\n",
       "      <td>18.219512</td>\n",
       "      <td>Contemporary American, American</td>\n",
       "      <td>Smart Casual</td>\n",
       "      <td>4.3</td>\n",
       "      <td>3.9</td>\n",
       "      <td>4.5</td>\n",
       "      <td>676 Restaurant and Bar</td>\n",
       "      <td>4.5</td>\n",
       "    </tr>\n",
       "  </tbody>\n",
       "</table>\n",
       "</div>"
      ],
      "text/plain": [
       "    ambience_rating  average_price  \\\n",
       "1               4.5       7.440000   \n",
       "3               4.0      10.064655   \n",
       "5               4.1       8.680000   \n",
       "9               4.5       8.398305   \n",
       "20              4.5      18.219512   \n",
       "\n",
       "                                         cuisine_type       dress_code  \\\n",
       "1   Contemporary American, Comfort Food, Bar / Lou...     Smart Casual   \n",
       "3                               Contemporary American  Business Casual   \n",
       "5                                            American     Casual Dress   \n",
       "9                     American, Burgers, Comfort Food     Casual Dress   \n",
       "20                    Contemporary American, American     Smart Casual   \n",
       "\n",
       "    food_rating  noise_rating  overall_rating                    restaurant  \\\n",
       "1           3.7           3.9             4.3          10pin Bowling Lounge   \n",
       "3           4.1           3.8             4.3  1901 Restaurant at AceBounce   \n",
       "5           4.2           4.2             4.2            1959 Kitchen & Bar   \n",
       "9           4.5           4.5             4.7                    25 Degrees   \n",
       "20          4.3           3.9             4.5        676 Restaurant and Bar   \n",
       "\n",
       "    service_rating  \n",
       "1              4.0  \n",
       "3              4.1  \n",
       "5              4.3  \n",
       "9              4.6  \n",
       "20             4.5  "
      ]
     },
     "execution_count": 14,
     "metadata": {},
     "output_type": "execute_result"
    }
   ],
   "source": [
    "open_table = open_table.dropna()\n",
    "open_table.head()"
   ]
  },
  {
   "cell_type": "code",
   "execution_count": 15,
   "metadata": {
    "collapsed": false,
    "hidden": true
   },
   "outputs": [
    {
     "data": {
      "text/plain": [
       "(342, 9)"
      ]
     },
     "execution_count": 15,
     "metadata": {},
     "output_type": "execute_result"
    }
   ],
   "source": [
    "open_table.shape"
   ]
  },
  {
   "cell_type": "markdown",
   "metadata": {
    "heading_collapsed": true
   },
   "source": [
    "## Analysis"
   ]
  },
  {
   "cell_type": "markdown",
   "metadata": {
    "hidden": true
   },
   "source": [
    "### Correlations"
   ]
  },
  {
   "cell_type": "code",
   "execution_count": 16,
   "metadata": {
    "collapsed": false,
    "hidden": true
   },
   "outputs": [
    {
     "data": {
      "text/html": [
       "<div>\n",
       "<table border=\"1\" class=\"dataframe\">\n",
       "  <thead>\n",
       "    <tr style=\"text-align: right;\">\n",
       "      <th></th>\n",
       "      <th>ambience_rating</th>\n",
       "      <th>average_price</th>\n",
       "      <th>food_rating</th>\n",
       "      <th>noise_rating</th>\n",
       "      <th>overall_rating</th>\n",
       "      <th>service_rating</th>\n",
       "    </tr>\n",
       "  </thead>\n",
       "  <tbody>\n",
       "    <tr>\n",
       "      <th>ambience_rating</th>\n",
       "      <td>1.000000</td>\n",
       "      <td>0.188380</td>\n",
       "      <td>0.670034</td>\n",
       "      <td>0.542541</td>\n",
       "      <td>0.684804</td>\n",
       "      <td>0.686863</td>\n",
       "    </tr>\n",
       "    <tr>\n",
       "      <th>average_price</th>\n",
       "      <td>0.188380</td>\n",
       "      <td>1.000000</td>\n",
       "      <td>0.057352</td>\n",
       "      <td>-0.092418</td>\n",
       "      <td>0.138421</td>\n",
       "      <td>0.120018</td>\n",
       "    </tr>\n",
       "    <tr>\n",
       "      <th>food_rating</th>\n",
       "      <td>0.670034</td>\n",
       "      <td>0.057352</td>\n",
       "      <td>1.000000</td>\n",
       "      <td>0.688095</td>\n",
       "      <td>0.739825</td>\n",
       "      <td>0.756326</td>\n",
       "    </tr>\n",
       "    <tr>\n",
       "      <th>noise_rating</th>\n",
       "      <td>0.542541</td>\n",
       "      <td>-0.092418</td>\n",
       "      <td>0.688095</td>\n",
       "      <td>1.000000</td>\n",
       "      <td>0.538681</td>\n",
       "      <td>0.619474</td>\n",
       "    </tr>\n",
       "    <tr>\n",
       "      <th>overall_rating</th>\n",
       "      <td>0.684804</td>\n",
       "      <td>0.138421</td>\n",
       "      <td>0.739825</td>\n",
       "      <td>0.538681</td>\n",
       "      <td>1.000000</td>\n",
       "      <td>0.761835</td>\n",
       "    </tr>\n",
       "    <tr>\n",
       "      <th>service_rating</th>\n",
       "      <td>0.686863</td>\n",
       "      <td>0.120018</td>\n",
       "      <td>0.756326</td>\n",
       "      <td>0.619474</td>\n",
       "      <td>0.761835</td>\n",
       "      <td>1.000000</td>\n",
       "    </tr>\n",
       "  </tbody>\n",
       "</table>\n",
       "</div>"
      ],
      "text/plain": [
       "                 ambience_rating  average_price  food_rating  noise_rating  \\\n",
       "ambience_rating         1.000000       0.188380     0.670034      0.542541   \n",
       "average_price           0.188380       1.000000     0.057352     -0.092418   \n",
       "food_rating             0.670034       0.057352     1.000000      0.688095   \n",
       "noise_rating            0.542541      -0.092418     0.688095      1.000000   \n",
       "overall_rating          0.684804       0.138421     0.739825      0.538681   \n",
       "service_rating          0.686863       0.120018     0.756326      0.619474   \n",
       "\n",
       "                 overall_rating  service_rating  \n",
       "ambience_rating        0.684804        0.686863  \n",
       "average_price          0.138421        0.120018  \n",
       "food_rating            0.739825        0.756326  \n",
       "noise_rating           0.538681        0.619474  \n",
       "overall_rating         1.000000        0.761835  \n",
       "service_rating         0.761835        1.000000  "
      ]
     },
     "execution_count": 16,
     "metadata": {},
     "output_type": "execute_result"
    }
   ],
   "source": [
    "open_table.corr()"
   ]
  },
  {
   "cell_type": "code",
   "execution_count": 22,
   "metadata": {
    "collapsed": false,
    "hidden": true
   },
   "outputs": [
    {
     "data": {
      "image/png": "[encoded data removed]",
      "text/plain": [
       "<matplotlib.figure.Figure at 0x115e9e0b8>"
      ]
     },
     "metadata": {},
     "output_type": "display_data"
    }
   ],
   "source": [
    "# The log_price variable isn't created until below but I moved it up here since it fits with correlations\n",
    "\n",
    "open_table.corr()['log_price'].sort_values(ascending=False).plot(kind='bar');"
   ]
  },
  {
   "cell_type": "markdown",
   "metadata": {
    "heading_collapsed": true
   },
   "source": [
    "## Examine Y Variable"
   ]
  },
  {
   "cell_type": "code",
   "execution_count": 18,
   "metadata": {
    "collapsed": false,
    "hidden": true
   },
   "outputs": [
    {
     "data": {
      "image/png": "[encoded data removed]",
      "text/plain": [
       "<matplotlib.figure.Figure at 0x115cafb38>"
      ]
     },
     "metadata": {},
     "output_type": "display_data"
    }
   ],
   "source": [
    "plt.figure(figsize=(15,8))\n",
    "plt.hist(open_table['average_price'], 15)\n",
    "plt.title('Distribution of Average Restaurant Menu Item Prices in Chicago', fontsize = 20)\n",
    "plt.xlabel('Average Menu Item Price', fontsize = 15)\n",
    "plt.ylabel('Restaurant Count', fontsize = 15);"
   ]
  },
  {
   "cell_type": "markdown",
   "metadata": {
    "hidden": true
   },
   "source": [
    "### Transform Y"
   ]
  },
  {
   "cell_type": "code",
   "execution_count": 19,
   "metadata": {
    "collapsed": true,
    "hidden": true
   },
   "outputs": [],
   "source": [
    "open_table_log_y = open_table['average_price'].apply(np.log)\n",
    "open_table_sqrt_y = open_table['average_price'].apply(np.sqrt)\n",
    "\n",
    "open_table['log_price'] = open_table_log_y\n",
    "open_table['sqrt_price'] = open_table_sqrt_y"
   ]
  },
  {
   "cell_type": "code",
   "execution_count": 20,
   "metadata": {
    "collapsed": false,
    "hidden": true
   },
   "outputs": [
    {
     "data": {
      "image/png": "[encoded data removed]",
      "text/plain": [
       "<matplotlib.figure.Figure at 0x115e3e710>"
      ]
     },
     "metadata": {},
     "output_type": "display_data"
    }
   ],
   "source": [
    "plt.figure(figsize=(15,8))\n",
    "plt.hist(open_table['sqrt_price'], 30)\n",
    "plt.title('Distribution of Average Restaurant Menu Item Prices in Chicago', fontsize = 20)\n",
    "plt.xlabel('Square Root Transformed Average Menu Item Price', fontsize = 15)\n",
    "plt.ylabel('Restaurant Count', fontsize = 15);"
   ]
  },
  {
   "cell_type": "code",
   "execution_count": 21,
   "metadata": {
    "collapsed": false,
    "hidden": true,
    "scrolled": true
   },
   "outputs": [
    {
     "data": {
      "image/png": "[encoded data removed]",
      "text/plain": [
       "<matplotlib.figure.Figure at 0x115b76da0>"
      ]
     },
     "metadata": {},
     "output_type": "display_data"
    }
   ],
   "source": [
    "plt.figure(figsize=(15,8))\n",
    "plt.hist(open_table['log_price'], 15)\n",
    "plt.title('Distribution of Log Transformed Average Restaurant Menu Prices Items in Chicago', fontsize = 20)\n",
    "plt.xlabel('Log Transformed Average Menu Item Price', fontsize = 15)\n",
    "plt.ylabel('Restaurant Count', fontsize = 15);"
   ]
  },
  {
   "cell_type": "markdown",
   "metadata": {
    "heading_collapsed": true
   },
   "source": [
    "## Examine variable relationships"
   ]
  },
  {
   "cell_type": "code",
   "execution_count": 23,
   "metadata": {
    "collapsed": false,
    "hidden": true
   },
   "outputs": [
    {
     "data": {
      "image/png": "[encoded data removed]",
      "text/plain": [
       "<matplotlib.figure.Figure at 0x1165a9518>"
      ]
     },
     "metadata": {},
     "output_type": "display_data"
    }
   ],
   "source": [
    "sns.pairplot(open_table[['log_price', 'ambience_rating', 'noise_rating', 'food_rating', 'service_rating', 'overall_rating']]);"
   ]
  },
  {
   "cell_type": "markdown",
   "metadata": {},
   "source": [
    "## Price vs. rating plots"
   ]
  },
  {
   "cell_type": "code",
   "execution_count": 25,
   "metadata": {
    "collapsed": false
   },
   "outputs": [
    {
     "name": "stderr",
     "output_type": "stream",
     "text": [
      "/Users/Dangaia/anaconda/lib/python3.6/site-packages/statsmodels/nonparametric/kdetools.py:20: VisibleDeprecationWarning: using a non-integer number instead of an integer will result in an error in the future\n",
      "  y = X[:m/2+1] + np.r_[0,X[m/2+1:],0]*1j\n"
     ]
    },
    {
     "data": {
      "image/png": "[encoded data removed]",
      "text/plain": [
       "<matplotlib.figure.Figure at 0x11776d240>"
      ]
     },
     "metadata": {},
     "output_type": "display_data"
    }
   ],
   "source": [
    "sns.jointplot(x='overall_rating', y='log_price', data = open_table, kind = 'reg', size = 9)\n",
    "plt.xlabel('Log of Average Price')\n",
    "plt.ylabel('Overall Rating')\n",
    "plt.title('Log of Average Price vs. Overall Rating');"
   ]
  },
  {
   "cell_type": "code",
   "execution_count": 26,
   "metadata": {
    "collapsed": false
   },
   "outputs": [
    {
     "name": "stderr",
     "output_type": "stream",
     "text": [
      "/Users/Dangaia/anaconda/lib/python3.6/site-packages/statsmodels/nonparametric/kdetools.py:20: VisibleDeprecationWarning: using a non-integer number instead of an integer will result in an error in the future\n",
      "  y = X[:m/2+1] + np.r_[0,X[m/2+1:],0]*1j\n"
     ]
    },
    {
     "data": {
      "image/png": "[encoded data removed]",
      "text/plain": [
       "<matplotlib.figure.Figure at 0x1157dd828>"
      ]
     },
     "metadata": {},
     "output_type": "display_data"
    }
   ],
   "source": [
    "sns.jointplot(x='noise_rating', y='log_price', data = open_table, kind = 'reg', size = 9)\n",
    "plt.xlabel('Log of Average Price')\n",
    "plt.ylabel('Noise Rating')\n",
    "plt.title('Log of Average Price vs. Noise Rating');"
   ]
  },
  {
   "cell_type": "code",
   "execution_count": 27,
   "metadata": {
    "collapsed": false
   },
   "outputs": [
    {
     "name": "stderr",
     "output_type": "stream",
     "text": [
      "/Users/Dangaia/anaconda/lib/python3.6/site-packages/statsmodels/nonparametric/kdetools.py:20: VisibleDeprecationWarning: using a non-integer number instead of an integer will result in an error in the future\n",
      "  y = X[:m/2+1] + np.r_[0,X[m/2+1:],0]*1j\n"
     ]
    },
    {
     "data": {
      "image/png": "[encoded data removed]",
      "text/plain": [
       "<matplotlib.figure.Figure at 0x1157dd748>"
      ]
     },
     "metadata": {},
     "output_type": "display_data"
    }
   ],
   "source": [
    "sns.jointplot(x='food_rating', y='log_price', data = open_table, kind = 'reg', size = 9)\n",
    "plt.xlabel('Log of Average Price')\n",
    "plt.ylabel('Food Rating')\n",
    "plt.title('Log of Average Price vs. Food Rating');"
   ]
  },
  {
   "cell_type": "code",
   "execution_count": 28,
   "metadata": {
    "collapsed": false
   },
   "outputs": [
    {
     "name": "stderr",
     "output_type": "stream",
     "text": [
      "/Users/Dangaia/anaconda/lib/python3.6/site-packages/statsmodels/nonparametric/kdetools.py:20: VisibleDeprecationWarning: using a non-integer number instead of an integer will result in an error in the future\n",
      "  y = X[:m/2+1] + np.r_[0,X[m/2+1:],0]*1j\n"
     ]
    },
    {
     "data": {
      "image/png": "[encoded data removed]",
      "text/plain": [
       "<matplotlib.figure.Figure at 0x1178e03c8>"
      ]
     },
     "metadata": {},
     "output_type": "display_data"
    }
   ],
   "source": [
    "sns.jointplot(x='service_rating', y='log_price', data = open_table, kind = 'reg', size = 9)\n",
    "plt.xlabel('Log of Average Price')\n",
    "plt.ylabel('Service Rating')\n",
    "plt.title('Log of Average Price vs. Service Rating');"
   ]
  },
  {
   "cell_type": "markdown",
   "metadata": {},
   "source": [
    "## Fit variables"
   ]
  },
  {
   "cell_type": "markdown",
   "metadata": {},
   "source": [
    "### Untransformed Y"
   ]
  },
  {
   "cell_type": "code",
   "execution_count": 29,
   "metadata": {
    "collapsed": true
   },
   "outputs": [],
   "source": [
    "y_avg = open_table['average_price']\n",
    "X_avg = open_table[['overall_rating', 'noise_rating', 'service_rating', 'food_rating', 'ambience_rating']]\n",
    "\n",
    "X_avg_train, X_avg_test, y_avg_train, y_avg_test = train_test_split(X_avg, y_avg, test_size=0.3)"
   ]
  },
  {
   "cell_type": "code",
   "execution_count": 30,
   "metadata": {
    "collapsed": false
   },
   "outputs": [
    {
     "data": {
      "text/html": [
       "<table class=\"simpletable\">\n",
       "<caption>OLS Regression Results</caption>\n",
       "<tr>\n",
       "  <th>Dep. Variable:</th>      <td>average_price</td>  <th>  R-squared:         </th> <td>   0.674</td>\n",
       "</tr>\n",
       "<tr>\n",
       "  <th>Model:</th>                   <td>OLS</td>       <th>  Adj. R-squared:    </th> <td>   0.657</td>\n",
       "</tr>\n",
       "<tr>\n",
       "  <th>Method:</th>             <td>Least Squares</td>  <th>  F-statistic:       </th> <td>   40.49</td>\n",
       "</tr>\n",
       "<tr>\n",
       "  <th>Date:</th>             <td>Fri, 28 Apr 2017</td> <th>  Prob (F-statistic):</th> <td>2.16e-22</td>\n",
       "</tr>\n",
       "<tr>\n",
       "  <th>Time:</th>                 <td>08:16:06</td>     <th>  Log-Likelihood:    </th> <td> -405.65</td>\n",
       "</tr>\n",
       "<tr>\n",
       "  <th>No. Observations:</th>      <td>   103</td>      <th>  AIC:               </th> <td>   821.3</td>\n",
       "</tr>\n",
       "<tr>\n",
       "  <th>Df Residuals:</th>          <td>    98</td>      <th>  BIC:               </th> <td>   834.5</td>\n",
       "</tr>\n",
       "<tr>\n",
       "  <th>Df Model:</th>              <td>     5</td>      <th>                     </th>     <td> </td>   \n",
       "</tr>\n",
       "<tr>\n",
       "  <th>Covariance Type:</th>      <td>nonrobust</td>    <th>                     </th>     <td> </td>   \n",
       "</tr>\n",
       "</table>\n",
       "<table class=\"simpletable\">\n",
       "<tr>\n",
       "         <td></td>            <th>coef</th>     <th>std err</th>      <th>t</th>      <th>P>|t|</th> <th>[95.0% Conf. Int.]</th> \n",
       "</tr>\n",
       "<tr>\n",
       "  <th>overall_rating</th>  <td>   16.8177</td> <td>    5.184</td> <td>    3.244</td> <td> 0.002</td> <td>    6.530    27.106</td>\n",
       "</tr>\n",
       "<tr>\n",
       "  <th>noise_rating</th>    <td>   -5.1597</td> <td>    3.863</td> <td>   -1.336</td> <td> 0.185</td> <td>  -12.826     2.507</td>\n",
       "</tr>\n",
       "<tr>\n",
       "  <th>service_rating</th>  <td>   -1.6998</td> <td>    4.401</td> <td>   -0.386</td> <td> 0.700</td> <td>  -10.433     7.033</td>\n",
       "</tr>\n",
       "<tr>\n",
       "  <th>food_rating</th>     <td>  -13.6309</td> <td>    7.225</td> <td>   -1.887</td> <td> 0.062</td> <td>  -27.969     0.708</td>\n",
       "</tr>\n",
       "<tr>\n",
       "  <th>ambience_rating</th> <td>    7.0864</td> <td>    4.729</td> <td>    1.498</td> <td> 0.137</td> <td>   -2.299    16.472</td>\n",
       "</tr>\n",
       "</table>\n",
       "<table class=\"simpletable\">\n",
       "<tr>\n",
       "  <th>Omnibus:</th>       <td>57.048</td> <th>  Durbin-Watson:     </th> <td>   2.209</td>\n",
       "</tr>\n",
       "<tr>\n",
       "  <th>Prob(Omnibus):</th> <td> 0.000</td> <th>  Jarque-Bera (JB):  </th> <td> 167.545</td>\n",
       "</tr>\n",
       "<tr>\n",
       "  <th>Skew:</th>          <td> 2.072</td> <th>  Prob(JB):          </th> <td>4.15e-37</td>\n",
       "</tr>\n",
       "<tr>\n",
       "  <th>Kurtosis:</th>      <td> 7.676</td> <th>  Cond. No.          </th> <td>    62.4</td>\n",
       "</tr>\n",
       "</table>"
      ],
      "text/plain": [
       "<class 'statsmodels.iolib.summary.Summary'>\n",
       "\"\"\"\n",
       "                            OLS Regression Results                            \n",
       "==============================================================================\n",
       "Dep. Variable:          average_price   R-squared:                       0.674\n",
       "Model:                            OLS   Adj. R-squared:                  0.657\n",
       "Method:                 Least Squares   F-statistic:                     40.49\n",
       "Date:                Fri, 28 Apr 2017   Prob (F-statistic):           2.16e-22\n",
       "Time:                        08:16:06   Log-Likelihood:                -405.65\n",
       "No. Observations:                 103   AIC:                             821.3\n",
       "Df Residuals:                      98   BIC:                             834.5\n",
       "Df Model:                           5                                         \n",
       "Covariance Type:            nonrobust                                         \n",
       "===================================================================================\n",
       "                      coef    std err          t      P>|t|      [95.0% Conf. Int.]\n",
       "-----------------------------------------------------------------------------------\n",
       "overall_rating     16.8177      5.184      3.244      0.002         6.530    27.106\n",
       "noise_rating       -5.1597      3.863     -1.336      0.185       -12.826     2.507\n",
       "service_rating     -1.6998      4.401     -0.386      0.700       -10.433     7.033\n",
       "food_rating       -13.6309      7.225     -1.887      0.062       -27.969     0.708\n",
       "ambience_rating     7.0864      4.729      1.498      0.137        -2.299    16.472\n",
       "==============================================================================\n",
       "Omnibus:                       57.048   Durbin-Watson:                   2.209\n",
       "Prob(Omnibus):                  0.000   Jarque-Bera (JB):              167.545\n",
       "Skew:                           2.072   Prob(JB):                     4.15e-37\n",
       "Kurtosis:                       7.676   Cond. No.                         62.4\n",
       "==============================================================================\n",
       "\n",
       "Warnings:\n",
       "[1] Standard Errors assume that the covariance matrix of the errors is correctly specified.\n",
       "\"\"\""
      ]
     },
     "execution_count": 30,
     "metadata": {},
     "output_type": "execute_result"
    }
   ],
   "source": [
    "avg_model = sm.OLS(y_avg_test, X_avg_test)\n",
    "avg_model_fit = avg_model.fit()\n",
    "avg_model_fit.summary()"
   ]
  },
  {
   "cell_type": "markdown",
   "metadata": {},
   "source": [
    "### Transformed Y"
   ]
  },
  {
   "cell_type": "code",
   "execution_count": 31,
   "metadata": {
    "collapsed": true
   },
   "outputs": [],
   "source": [
    "y_log = open_table['log_price']\n",
    "X_log = open_table[['overall_rating', 'noise_rating', 'service_rating', 'food_rating', 'ambience_rating']]\n",
    "\n",
    "X_log_train, X_log_test, y_log_train, y_log_test = train_test_split(X_log, y_log, test_size=0.3)"
   ]
  },
  {
   "cell_type": "markdown",
   "metadata": {},
   "source": [
    "Test Data"
   ]
  },
  {
   "cell_type": "code",
   "execution_count": 32,
   "metadata": {
    "collapsed": false
   },
   "outputs": [
    {
     "data": {
      "text/html": [
       "<table class=\"simpletable\">\n",
       "<caption>OLS Regression Results</caption>\n",
       "<tr>\n",
       "  <th>Dep. Variable:</th>        <td>log_price</td>    <th>  R-squared:         </th> <td>   0.951</td>\n",
       "</tr>\n",
       "<tr>\n",
       "  <th>Model:</th>                   <td>OLS</td>       <th>  Adj. R-squared:    </th> <td>   0.948</td>\n",
       "</tr>\n",
       "<tr>\n",
       "  <th>Method:</th>             <td>Least Squares</td>  <th>  F-statistic:       </th> <td>   377.1</td>\n",
       "</tr>\n",
       "<tr>\n",
       "  <th>Date:</th>             <td>Fri, 28 Apr 2017</td> <th>  Prob (F-statistic):</th> <td>2.48e-62</td>\n",
       "</tr>\n",
       "<tr>\n",
       "  <th>Time:</th>                 <td>08:16:13</td>     <th>  Log-Likelihood:    </th> <td> -95.329</td>\n",
       "</tr>\n",
       "<tr>\n",
       "  <th>No. Observations:</th>      <td>   103</td>      <th>  AIC:               </th> <td>   200.7</td>\n",
       "</tr>\n",
       "<tr>\n",
       "  <th>Df Residuals:</th>          <td>    98</td>      <th>  BIC:               </th> <td>   213.8</td>\n",
       "</tr>\n",
       "<tr>\n",
       "  <th>Df Model:</th>              <td>     5</td>      <th>                     </th>     <td> </td>   \n",
       "</tr>\n",
       "<tr>\n",
       "  <th>Covariance Type:</th>      <td>nonrobust</td>    <th>                     </th>     <td> </td>   \n",
       "</tr>\n",
       "</table>\n",
       "<table class=\"simpletable\">\n",
       "<tr>\n",
       "         <td></td>            <th>coef</th>     <th>std err</th>      <th>t</th>      <th>P>|t|</th> <th>[95.0% Conf. Int.]</th> \n",
       "</tr>\n",
       "<tr>\n",
       "  <th>overall_rating</th>  <td>    0.0942</td> <td>    0.403</td> <td>    0.234</td> <td> 0.816</td> <td>   -0.706     0.894</td>\n",
       "</tr>\n",
       "<tr>\n",
       "  <th>noise_rating</th>    <td>   -0.3887</td> <td>    0.187</td> <td>   -2.079</td> <td> 0.040</td> <td>   -0.760    -0.018</td>\n",
       "</tr>\n",
       "<tr>\n",
       "  <th>service_rating</th>  <td>    0.1108</td> <td>    0.297</td> <td>    0.373</td> <td> 0.710</td> <td>   -0.479     0.700</td>\n",
       "</tr>\n",
       "<tr>\n",
       "  <th>food_rating</th>     <td>    0.1524</td> <td>    0.398</td> <td>    0.383</td> <td> 0.703</td> <td>   -0.638     0.943</td>\n",
       "</tr>\n",
       "<tr>\n",
       "  <th>ambience_rating</th> <td>    0.6379</td> <td>    0.246</td> <td>    2.589</td> <td> 0.011</td> <td>    0.149     1.127</td>\n",
       "</tr>\n",
       "</table>\n",
       "<table class=\"simpletable\">\n",
       "<tr>\n",
       "  <th>Omnibus:</th>       <td>18.822</td> <th>  Durbin-Watson:     </th> <td>   2.259</td>\n",
       "</tr>\n",
       "<tr>\n",
       "  <th>Prob(Omnibus):</th> <td> 0.000</td> <th>  Jarque-Bera (JB):  </th> <td>  26.363</td>\n",
       "</tr>\n",
       "<tr>\n",
       "  <th>Skew:</th>          <td> 0.876</td> <th>  Prob(JB):          </th> <td>1.89e-06</td>\n",
       "</tr>\n",
       "<tr>\n",
       "  <th>Kurtosis:</th>      <td> 4.753</td> <th>  Cond. No.          </th> <td>    80.2</td>\n",
       "</tr>\n",
       "</table>"
      ],
      "text/plain": [
       "<class 'statsmodels.iolib.summary.Summary'>\n",
       "\"\"\"\n",
       "                            OLS Regression Results                            \n",
       "==============================================================================\n",
       "Dep. Variable:              log_price   R-squared:                       0.951\n",
       "Model:                            OLS   Adj. R-squared:                  0.948\n",
       "Method:                 Least Squares   F-statistic:                     377.1\n",
       "Date:                Fri, 28 Apr 2017   Prob (F-statistic):           2.48e-62\n",
       "Time:                        08:16:13   Log-Likelihood:                -95.329\n",
       "No. Observations:                 103   AIC:                             200.7\n",
       "Df Residuals:                      98   BIC:                             213.8\n",
       "Df Model:                           5                                         \n",
       "Covariance Type:            nonrobust                                         \n",
       "===================================================================================\n",
       "                      coef    std err          t      P>|t|      [95.0% Conf. Int.]\n",
       "-----------------------------------------------------------------------------------\n",
       "overall_rating      0.0942      0.403      0.234      0.816        -0.706     0.894\n",
       "noise_rating       -0.3887      0.187     -2.079      0.040        -0.760    -0.018\n",
       "service_rating      0.1108      0.297      0.373      0.710        -0.479     0.700\n",
       "food_rating         0.1524      0.398      0.383      0.703        -0.638     0.943\n",
       "ambience_rating     0.6379      0.246      2.589      0.011         0.149     1.127\n",
       "==============================================================================\n",
       "Omnibus:                       18.822   Durbin-Watson:                   2.259\n",
       "Prob(Omnibus):                  0.000   Jarque-Bera (JB):               26.363\n",
       "Skew:                           0.876   Prob(JB):                     1.89e-06\n",
       "Kurtosis:                       4.753   Cond. No.                         80.2\n",
       "==============================================================================\n",
       "\n",
       "Warnings:\n",
       "[1] Standard Errors assume that the covariance matrix of the errors is correctly specified.\n",
       "\"\"\""
      ]
     },
     "execution_count": 32,
     "metadata": {},
     "output_type": "execute_result"
    }
   ],
   "source": [
    "log_model = sm.OLS(y_log_test, X_log_test)\n",
    "log_model_fit_test = log_model.fit()\n",
    "log_model_fit_test.summary()"
   ]
  },
  {
   "cell_type": "markdown",
   "metadata": {},
   "source": [
    "All data"
   ]
  },
  {
   "cell_type": "code",
   "execution_count": 33,
   "metadata": {
    "collapsed": false
   },
   "outputs": [
    {
     "data": {
      "text/html": [
       "<table class=\"simpletable\">\n",
       "<caption>OLS Regression Results</caption>\n",
       "<tr>\n",
       "  <th>Dep. Variable:</th>        <td>log_price</td>    <th>  R-squared:         </th> <td>   0.957</td> \n",
       "</tr>\n",
       "<tr>\n",
       "  <th>Model:</th>                   <td>OLS</td>       <th>  Adj. R-squared:    </th> <td>   0.956</td> \n",
       "</tr>\n",
       "<tr>\n",
       "  <th>Method:</th>             <td>Least Squares</td>  <th>  F-statistic:       </th> <td>   1498.</td> \n",
       "</tr>\n",
       "<tr>\n",
       "  <th>Date:</th>             <td>Fri, 28 Apr 2017</td> <th>  Prob (F-statistic):</th> <td>1.10e-227</td>\n",
       "</tr>\n",
       "<tr>\n",
       "  <th>Time:</th>                 <td>08:16:16</td>     <th>  Log-Likelihood:    </th> <td> -296.75</td> \n",
       "</tr>\n",
       "<tr>\n",
       "  <th>No. Observations:</th>      <td>   342</td>      <th>  AIC:               </th> <td>   603.5</td> \n",
       "</tr>\n",
       "<tr>\n",
       "  <th>Df Residuals:</th>          <td>   337</td>      <th>  BIC:               </th> <td>   622.7</td> \n",
       "</tr>\n",
       "<tr>\n",
       "  <th>Df Model:</th>              <td>     5</td>      <th>                     </th>     <td> </td>    \n",
       "</tr>\n",
       "<tr>\n",
       "  <th>Covariance Type:</th>      <td>nonrobust</td>    <th>                     </th>     <td> </td>    \n",
       "</tr>\n",
       "</table>\n",
       "<table class=\"simpletable\">\n",
       "<tr>\n",
       "         <td></td>            <th>coef</th>     <th>std err</th>      <th>t</th>      <th>P>|t|</th> <th>[95.0% Conf. Int.]</th> \n",
       "</tr>\n",
       "<tr>\n",
       "  <th>overall_rating</th>  <td>    0.6015</td> <td>    0.152</td> <td>    3.945</td> <td> 0.000</td> <td>    0.302     0.901</td>\n",
       "</tr>\n",
       "<tr>\n",
       "  <th>noise_rating</th>    <td>   -0.6978</td> <td>    0.110</td> <td>   -6.327</td> <td> 0.000</td> <td>   -0.915    -0.481</td>\n",
       "</tr>\n",
       "<tr>\n",
       "  <th>service_rating</th>  <td>    0.1486</td> <td>    0.130</td> <td>    1.140</td> <td> 0.255</td> <td>   -0.108     0.405</td>\n",
       "</tr>\n",
       "<tr>\n",
       "  <th>food_rating</th>     <td>   -0.0170</td> <td>    0.165</td> <td>   -0.103</td> <td> 0.918</td> <td>   -0.341     0.307</td>\n",
       "</tr>\n",
       "<tr>\n",
       "  <th>ambience_rating</th> <td>    0.5478</td> <td>    0.118</td> <td>    4.634</td> <td> 0.000</td> <td>    0.315     0.780</td>\n",
       "</tr>\n",
       "</table>\n",
       "<table class=\"simpletable\">\n",
       "<tr>\n",
       "  <th>Omnibus:</th>       <td>81.217</td> <th>  Durbin-Watson:     </th> <td>   2.021</td>\n",
       "</tr>\n",
       "<tr>\n",
       "  <th>Prob(Omnibus):</th> <td> 0.000</td> <th>  Jarque-Bera (JB):  </th> <td> 156.092</td>\n",
       "</tr>\n",
       "<tr>\n",
       "  <th>Skew:</th>          <td> 1.270</td> <th>  Prob(JB):          </th> <td>1.27e-34</td>\n",
       "</tr>\n",
       "<tr>\n",
       "  <th>Kurtosis:</th>      <td> 5.122</td> <th>  Cond. No.          </th> <td>    59.6</td>\n",
       "</tr>\n",
       "</table>"
      ],
      "text/plain": [
       "<class 'statsmodels.iolib.summary.Summary'>\n",
       "\"\"\"\n",
       "                            OLS Regression Results                            \n",
       "==============================================================================\n",
       "Dep. Variable:              log_price   R-squared:                       0.957\n",
       "Model:                            OLS   Adj. R-squared:                  0.956\n",
       "Method:                 Least Squares   F-statistic:                     1498.\n",
       "Date:                Fri, 28 Apr 2017   Prob (F-statistic):          1.10e-227\n",
       "Time:                        08:16:16   Log-Likelihood:                -296.75\n",
       "No. Observations:                 342   AIC:                             603.5\n",
       "Df Residuals:                     337   BIC:                             622.7\n",
       "Df Model:                           5                                         \n",
       "Covariance Type:            nonrobust                                         \n",
       "===================================================================================\n",
       "                      coef    std err          t      P>|t|      [95.0% Conf. Int.]\n",
       "-----------------------------------------------------------------------------------\n",
       "overall_rating      0.6015      0.152      3.945      0.000         0.302     0.901\n",
       "noise_rating       -0.6978      0.110     -6.327      0.000        -0.915    -0.481\n",
       "service_rating      0.1486      0.130      1.140      0.255        -0.108     0.405\n",
       "food_rating        -0.0170      0.165     -0.103      0.918        -0.341     0.307\n",
       "ambience_rating     0.5478      0.118      4.634      0.000         0.315     0.780\n",
       "==============================================================================\n",
       "Omnibus:                       81.217   Durbin-Watson:                   2.021\n",
       "Prob(Omnibus):                  0.000   Jarque-Bera (JB):              156.092\n",
       "Skew:                           1.270   Prob(JB):                     1.27e-34\n",
       "Kurtosis:                       5.122   Cond. No.                         59.6\n",
       "==============================================================================\n",
       "\n",
       "Warnings:\n",
       "[1] Standard Errors assume that the covariance matrix of the errors is correctly specified.\n",
       "\"\"\""
      ]
     },
     "execution_count": 33,
     "metadata": {},
     "output_type": "execute_result"
    }
   ],
   "source": [
    "log_model = sm.OLS(y_log, X_log)\n",
    "log_model_fit = log_model.fit()\n",
    "log_model_fit.summary()"
   ]
  },
  {
   "cell_type": "markdown",
   "metadata": {},
   "source": [
    "## Regularization"
   ]
  },
  {
   "cell_type": "markdown",
   "metadata": {},
   "source": [
    "All data"
   ]
  },
  {
   "cell_type": "code",
   "execution_count": 34,
   "metadata": {
    "collapsed": false
   },
   "outputs": [
    {
     "data": {
      "text/plain": [
       "0.20230069243239945"
      ]
     },
     "execution_count": 34,
     "metadata": {},
     "output_type": "execute_result"
    }
   ],
   "source": [
    "lr = LinearRegression()\n",
    "log_model_fit = lr.fit(X_log, y_log)\n",
    "lr.score(X_log, y_log)"
   ]
  },
  {
   "cell_type": "markdown",
   "metadata": {},
   "source": [
    "Split data"
   ]
  },
  {
   "cell_type": "code",
   "execution_count": 35,
   "metadata": {
    "collapsed": false
   },
   "outputs": [
    {
     "data": {
      "text/plain": [
       "0.11053622923408135"
      ]
     },
     "execution_count": 35,
     "metadata": {},
     "output_type": "execute_result"
    }
   ],
   "source": [
    "lr.fit(X_log_train, y_log_train)\n",
    "lr.score(X_log_test, y_log_test)"
   ]
  },
  {
   "cell_type": "code",
   "execution_count": 36,
   "metadata": {
    "collapsed": false
   },
   "outputs": [
    {
     "name": "stdout",
     "output_type": "stream",
     "text": [
      "[ 0.24244226  0.34873543  0.4412613   0.17208801  0.30088446  0.2912289\n",
      "  0.20913577  0.24311738  0.52802581  0.58641683]\n"
     ]
    },
    {
     "name": "stderr",
     "output_type": "stream",
     "text": [
      "/Users/Dangaia/anaconda/lib/python3.6/site-packages/sklearn/metrics/scorer.py:90: DeprecationWarning: Scoring method mean_squared_error was renamed to neg_mean_squared_error in version 0.18 and will be removed in 0.20.\n",
      "  sample_weight=sample_weight)\n",
      "/Users/Dangaia/anaconda/lib/python3.6/site-packages/sklearn/metrics/scorer.py:90: DeprecationWarning: Scoring method mean_squared_error was renamed to neg_mean_squared_error in version 0.18 and will be removed in 0.20.\n",
      "  sample_weight=sample_weight)\n",
      "/Users/Dangaia/anaconda/lib/python3.6/site-packages/sklearn/metrics/scorer.py:90: DeprecationWarning: Scoring method mean_squared_error was renamed to neg_mean_squared_error in version 0.18 and will be removed in 0.20.\n",
      "  sample_weight=sample_weight)\n",
      "/Users/Dangaia/anaconda/lib/python3.6/site-packages/sklearn/metrics/scorer.py:90: DeprecationWarning: Scoring method mean_squared_error was renamed to neg_mean_squared_error in version 0.18 and will be removed in 0.20.\n",
      "  sample_weight=sample_weight)\n",
      "/Users/Dangaia/anaconda/lib/python3.6/site-packages/sklearn/metrics/scorer.py:90: DeprecationWarning: Scoring method mean_squared_error was renamed to neg_mean_squared_error in version 0.18 and will be removed in 0.20.\n",
      "  sample_weight=sample_weight)\n",
      "/Users/Dangaia/anaconda/lib/python3.6/site-packages/sklearn/metrics/scorer.py:90: DeprecationWarning: Scoring method mean_squared_error was renamed to neg_mean_squared_error in version 0.18 and will be removed in 0.20.\n",
      "  sample_weight=sample_weight)\n",
      "/Users/Dangaia/anaconda/lib/python3.6/site-packages/sklearn/metrics/scorer.py:90: DeprecationWarning: Scoring method mean_squared_error was renamed to neg_mean_squared_error in version 0.18 and will be removed in 0.20.\n",
      "  sample_weight=sample_weight)\n",
      "/Users/Dangaia/anaconda/lib/python3.6/site-packages/sklearn/metrics/scorer.py:90: DeprecationWarning: Scoring method mean_squared_error was renamed to neg_mean_squared_error in version 0.18 and will be removed in 0.20.\n",
      "  sample_weight=sample_weight)\n",
      "/Users/Dangaia/anaconda/lib/python3.6/site-packages/sklearn/metrics/scorer.py:90: DeprecationWarning: Scoring method mean_squared_error was renamed to neg_mean_squared_error in version 0.18 and will be removed in 0.20.\n",
      "  sample_weight=sample_weight)\n",
      "/Users/Dangaia/anaconda/lib/python3.6/site-packages/sklearn/metrics/scorer.py:90: DeprecationWarning: Scoring method mean_squared_error was renamed to neg_mean_squared_error in version 0.18 and will be removed in 0.20.\n",
      "  sample_weight=sample_weight)\n"
     ]
    }
   ],
   "source": [
    "scores = cross_val_score(lr, X_log, y_log, cv=10, scoring='mean_squared_error')\n",
    "print(-scores)"
   ]
  },
  {
   "cell_type": "markdown",
   "metadata": {},
   "source": [
    "### Predicted Y Values"
   ]
  },
  {
   "cell_type": "code",
   "execution_count": 37,
   "metadata": {
    "collapsed": false
   },
   "outputs": [
    {
     "name": "stdout",
     "output_type": "stream",
     "text": [
      "[ 3.03007979  2.77392103  2.54043142  2.67043163  3.08761793  2.59278733\n",
      "  2.82015096  2.94685028  2.89355793  2.84349908  2.99731003  3.11851272\n",
      "  2.89401831  2.47842759  2.83891019  2.71373385  2.88589398  2.80853428\n",
      "  2.43223543  2.35738658  2.56462878  2.71147045  2.75245991  2.9818367\n",
      "  2.82476147  2.69636436  2.62070315  2.57690324  2.23988665  2.48923943\n",
      "  2.99321911  3.18733762  2.09770675  3.06860846  2.63361349  2.75604864\n",
      "  2.77451109  2.80249441  2.96291591  2.86706455  2.76983452  2.99932362\n",
      "  2.91347767  2.90963184  2.67418487  2.78746743  2.57473787  2.79924497\n",
      "  2.38063847  2.80623531  2.3064305   2.96327658  2.76637766  2.27841197\n",
      "  2.55426451  2.68332247  2.55625282  2.83925465  2.75604864  2.64165699\n",
      "  2.67717735  2.70415649  2.47919193  2.90728287  2.67753801  2.23868633\n",
      "  2.82676391  2.98225309  2.90423514  2.51480018  2.79310458  1.45473234\n",
      "  2.71719301  3.07052931  2.81007018  2.53826648  2.74019732  2.56949214\n",
      "  2.65348305  2.54504803  2.37332074  2.80840809  2.68889869  1.54909588\n",
      "  2.80086033  2.87769991  2.55931364  2.37657567  2.74697887  2.86876026\n",
      "  2.86219545  2.86219545  2.65348305  2.73193126  2.90423959  2.81844458\n",
      "  2.47814528  2.82500939  2.93344442  2.63161473  2.79352228  3.03028927\n",
      "  2.98499895  2.98499895  3.10970703  2.82920095  2.76510853  2.6825671\n",
      "  2.2139652   2.74957599  2.68318648  3.10697096  3.10980943  3.0772714\n",
      "  2.7888639   2.62166206  2.75186212  2.8855512   2.82556678  2.64267178\n",
      "  2.90611552  2.86986532  2.76844925  2.51947051  2.76251938  2.83152096\n",
      "  2.68588983  2.73296043  2.69491541  2.3489013   2.71667946  2.69444295\n",
      "  2.74944242  2.6987204   2.4363442   3.01665526  2.51308933  2.69215682\n",
      "  2.94192892  2.84150041  2.88053974  2.65519349  2.65519349  2.5214301\n",
      "  2.80534357  3.21882443  2.8725692   2.99538046  2.72938497  3.07787098\n",
      "  2.71672184  2.71672184  2.72455322  2.88891978  2.79382474  2.79382474\n",
      "  2.64403718  2.96432973  2.59015296  2.52959637  2.32264218  2.86493354\n",
      "  2.67748678  2.63566159  2.75226944  2.52883393  2.61964589  3.0227618\n",
      "  2.39233679  2.95785642  2.33061786  2.66884643  2.83944078  2.28607082\n",
      "  2.87884946  2.6219451   3.07592418  2.41697905  2.83293489  2.76119122\n",
      "  2.81011608  2.81691282  2.98929993  2.60486403  2.56067355  2.71970763\n",
      "  3.25372609  2.62180996  2.61253197  2.62578195  2.48543898  2.51959433\n",
      "  2.96528121  2.57877629  2.97228982  2.75852794  2.88969493  2.60952169\n",
      "  2.63418297  2.90985046  2.94008421  2.70920341  2.8564725   2.51830969\n",
      "  2.82632594  2.92683424  2.7177558   2.70198525  2.60729255  2.48962388\n",
      "  2.51127248  2.83096286  2.92684535  2.66652059  3.12662151  2.72321547\n",
      "  2.4530048   2.92976877  2.95150095  2.26299502  2.69352086  3.04436084\n",
      "  2.97610573  2.74193984  2.62711307  2.98762985  2.61646756  2.38806255\n",
      "  2.66380029  2.84926649  2.80765433  2.46400735  2.34199639  2.809789\n",
      "  2.73913722  2.85007513  2.69343854  2.72730509  2.13166385  2.81960909\n",
      "  2.92537633  3.02011399  3.02011399  2.53949824  2.49672948  1.86035133\n",
      "  2.83179475  2.98445435  2.75701794  2.9353508   2.81764772  2.92958539\n",
      "  2.69916301  2.95620239  2.28822427  2.87618491  2.71759342  3.25880245\n",
      "  2.65653989  2.85223448  2.79856359  2.66702599  2.66702599  2.71206568\n",
      "  2.71627517  2.73159901  3.18972821  2.5694845   3.05264203  2.77568602\n",
      "  2.65436829  2.40876769  2.66604474  2.62894936  2.01943349  2.16955411\n",
      "  2.05707528  2.35207696  2.68493513  1.56848091  2.80017901  2.70953359\n",
      "  2.71869482  2.61785371  2.68010373  1.17962784  2.78614568  2.87410277\n",
      "  2.96907126  2.36961657  2.3831958   2.81426656  2.08222955  2.56551434\n",
      "  2.46068266  2.63566783  2.94424574  2.39690037  2.16191295  2.60689246\n",
      "  2.41454168  2.5949442   2.5949442   2.75053174  2.9592623   2.37854021\n",
      "  2.96665368  2.57133275  2.54679725  2.85953756  2.8992378   3.06172836\n",
      "  2.85865221  2.66715758  3.31817871  2.59806377  2.96471461  2.82848212\n",
      "  2.72430102  2.71227368  2.76045808  3.00897723  3.00897723  2.69767814\n",
      "  2.47812111  2.47243837  2.49441756  0.38848032  3.09793166  2.66662269\n",
      "  3.12190937  3.10007265  2.87041816  3.00584341  3.18782314  2.24398782\n",
      "  2.39665924  2.02794436  2.90702362  2.9456624   2.66709207  2.3915614 ]\n"
     ]
    }
   ],
   "source": [
    "scores = cross_val_predict(lr, X_log, y_log, cv=10)\n",
    "\n",
    "# scores output is negative, a sklearn quirk bc mse is used to min. optimization func.\n",
    "print(scores)"
   ]
  },
  {
   "cell_type": "code",
   "execution_count": 38,
   "metadata": {
    "collapsed": false
   },
   "outputs": [
    {
     "data": {
      "text/html": [
       "<div>\n",
       "<table border=\"1\" class=\"dataframe\">\n",
       "  <thead>\n",
       "    <tr style=\"text-align: right;\">\n",
       "      <th></th>\n",
       "      <th>ambience_rating</th>\n",
       "      <th>average_price</th>\n",
       "      <th>cuisine_type</th>\n",
       "      <th>dress_code</th>\n",
       "      <th>food_rating</th>\n",
       "      <th>noise_rating</th>\n",
       "      <th>overall_rating</th>\n",
       "      <th>restaurant</th>\n",
       "      <th>service_rating</th>\n",
       "      <th>log_price</th>\n",
       "      <th>sqrt_price</th>\n",
       "      <th>y_log_pred</th>\n",
       "    </tr>\n",
       "  </thead>\n",
       "  <tbody>\n",
       "    <tr>\n",
       "      <th>1</th>\n",
       "      <td>4.5</td>\n",
       "      <td>7.440000</td>\n",
       "      <td>Contemporary American, Comfort Food, Bar / Lou...</td>\n",
       "      <td>Smart Casual</td>\n",
       "      <td>3.7</td>\n",
       "      <td>3.9</td>\n",
       "      <td>4.3</td>\n",
       "      <td>10pin Bowling Lounge</td>\n",
       "      <td>4.0</td>\n",
       "      <td>2.006871</td>\n",
       "      <td>2.727636</td>\n",
       "      <td>3.030080</td>\n",
       "    </tr>\n",
       "    <tr>\n",
       "      <th>3</th>\n",
       "      <td>4.0</td>\n",
       "      <td>10.064655</td>\n",
       "      <td>Contemporary American</td>\n",
       "      <td>Business Casual</td>\n",
       "      <td>4.1</td>\n",
       "      <td>3.8</td>\n",
       "      <td>4.3</td>\n",
       "      <td>1901 Restaurant at AceBounce</td>\n",
       "      <td>4.1</td>\n",
       "      <td>2.309030</td>\n",
       "      <td>3.172484</td>\n",
       "      <td>2.773921</td>\n",
       "    </tr>\n",
       "    <tr>\n",
       "      <th>5</th>\n",
       "      <td>4.1</td>\n",
       "      <td>8.680000</td>\n",
       "      <td>American</td>\n",
       "      <td>Casual Dress</td>\n",
       "      <td>4.2</td>\n",
       "      <td>4.2</td>\n",
       "      <td>4.2</td>\n",
       "      <td>1959 Kitchen &amp; Bar</td>\n",
       "      <td>4.3</td>\n",
       "      <td>2.161022</td>\n",
       "      <td>2.946184</td>\n",
       "      <td>2.540431</td>\n",
       "    </tr>\n",
       "    <tr>\n",
       "      <th>9</th>\n",
       "      <td>4.5</td>\n",
       "      <td>8.398305</td>\n",
       "      <td>American, Burgers, Comfort Food</td>\n",
       "      <td>Casual Dress</td>\n",
       "      <td>4.5</td>\n",
       "      <td>4.5</td>\n",
       "      <td>4.7</td>\n",
       "      <td>25 Degrees</td>\n",
       "      <td>4.6</td>\n",
       "      <td>2.128030</td>\n",
       "      <td>2.897983</td>\n",
       "      <td>2.670432</td>\n",
       "    </tr>\n",
       "    <tr>\n",
       "      <th>20</th>\n",
       "      <td>4.5</td>\n",
       "      <td>18.219512</td>\n",
       "      <td>Contemporary American, American</td>\n",
       "      <td>Smart Casual</td>\n",
       "      <td>4.3</td>\n",
       "      <td>3.9</td>\n",
       "      <td>4.5</td>\n",
       "      <td>676 Restaurant and Bar</td>\n",
       "      <td>4.5</td>\n",
       "      <td>2.902493</td>\n",
       "      <td>4.268432</td>\n",
       "      <td>3.087618</td>\n",
       "    </tr>\n",
       "  </tbody>\n",
       "</table>\n",
       "</div>"
      ],
      "text/plain": [
       "    ambience_rating  average_price  \\\n",
       "1               4.5       7.440000   \n",
       "3               4.0      10.064655   \n",
       "5               4.1       8.680000   \n",
       "9               4.5       8.398305   \n",
       "20              4.5      18.219512   \n",
       "\n",
       "                                         cuisine_type       dress_code  \\\n",
       "1   Contemporary American, Comfort Food, Bar / Lou...     Smart Casual   \n",
       "3                               Contemporary American  Business Casual   \n",
       "5                                            American     Casual Dress   \n",
       "9                     American, Burgers, Comfort Food     Casual Dress   \n",
       "20                    Contemporary American, American     Smart Casual   \n",
       "\n",
       "    food_rating  noise_rating  overall_rating                    restaurant  \\\n",
       "1           3.7           3.9             4.3          10pin Bowling Lounge   \n",
       "3           4.1           3.8             4.3  1901 Restaurant at AceBounce   \n",
       "5           4.2           4.2             4.2            1959 Kitchen & Bar   \n",
       "9           4.5           4.5             4.7                    25 Degrees   \n",
       "20          4.3           3.9             4.5        676 Restaurant and Bar   \n",
       "\n",
       "    service_rating  log_price  sqrt_price  y_log_pred  \n",
       "1              4.0   2.006871    2.727636    3.030080  \n",
       "3              4.1   2.309030    3.172484    2.773921  \n",
       "5              4.3   2.161022    2.946184    2.540431  \n",
       "9              4.6   2.128030    2.897983    2.670432  \n",
       "20             4.5   2.902493    4.268432    3.087618  "
      ]
     },
     "execution_count": 38,
     "metadata": {},
     "output_type": "execute_result"
    }
   ],
   "source": [
    "open_table['y_log_pred'] = scores\n",
    "open_table.head()"
   ]
  },
  {
   "cell_type": "code",
   "execution_count": 38,
   "metadata": {
    "collapsed": false
   },
   "outputs": [
    {
     "name": "stderr",
     "output_type": "stream",
     "text": [
      "/Users/Dangaia/anaconda/lib/python3.6/site-packages/ipykernel/__main__.py:1: FutureWarning: sort(columns=....) is deprecated, use sort_values(by=.....)\n",
      "  if __name__ == '__main__':\n"
     ]
    },
    {
     "data": {
      "text/html": [
       "<div>\n",
       "<table border=\"1\" class=\"dataframe\">\n",
       "  <thead>\n",
       "    <tr style=\"text-align: right;\">\n",
       "      <th></th>\n",
       "      <th>ambience_rating</th>\n",
       "      <th>average_price</th>\n",
       "      <th>cuisine_type</th>\n",
       "      <th>dress_code</th>\n",
       "      <th>food_rating</th>\n",
       "      <th>noise_rating</th>\n",
       "      <th>overall_rating</th>\n",
       "      <th>restaurant</th>\n",
       "      <th>service_rating</th>\n",
       "      <th>log_price</th>\n",
       "      <th>sqrt_price</th>\n",
       "      <th>y_log_pred</th>\n",
       "    </tr>\n",
       "  </thead>\n",
       "  <tbody>\n",
       "    <tr>\n",
       "      <th>1931</th>\n",
       "      <td>2.7</td>\n",
       "      <td>7.703704</td>\n",
       "      <td>Sushi, Thai, Asian</td>\n",
       "      <td>Casual Dress</td>\n",
       "      <td>3.1</td>\n",
       "      <td>5.0</td>\n",
       "      <td>3.1</td>\n",
       "      <td>Taste Sabores De America</td>\n",
       "      <td>2.9</td>\n",
       "      <td>2.041701</td>\n",
       "      <td>2.775555</td>\n",
       "      <td>0.388480</td>\n",
       "    </tr>\n",
       "    <tr>\n",
       "      <th>1666</th>\n",
       "      <td>2.8</td>\n",
       "      <td>5.991379</td>\n",
       "      <td>Peruvian, South American</td>\n",
       "      <td>Smart Casual</td>\n",
       "      <td>3.8</td>\n",
       "      <td>4.3</td>\n",
       "      <td>3.8</td>\n",
       "      <td>Ringo Japanese Kitchen</td>\n",
       "      <td>3.0</td>\n",
       "      <td>1.790322</td>\n",
       "      <td>2.447729</td>\n",
       "      <td>1.179628</td>\n",
       "    </tr>\n",
       "    <tr>\n",
       "      <th>262</th>\n",
       "      <td>5.0</td>\n",
       "      <td>5.920312</td>\n",
       "      <td>Brazilian</td>\n",
       "      <td>Casual Dress</td>\n",
       "      <td>4.0</td>\n",
       "      <td>5.0</td>\n",
       "      <td>3.0</td>\n",
       "      <td>Bravo Restaurant</td>\n",
       "      <td>2.0</td>\n",
       "      <td>1.778389</td>\n",
       "      <td>2.433169</td>\n",
       "      <td>1.454732</td>\n",
       "    </tr>\n",
       "    <tr>\n",
       "      <th>312</th>\n",
       "      <td>3.3</td>\n",
       "      <td>9.765984</td>\n",
       "      <td>Asian, Vietnamese, Thai</td>\n",
       "      <td>$30 and under</td>\n",
       "      <td>3.8</td>\n",
       "      <td>4.8</td>\n",
       "      <td>4.2</td>\n",
       "      <td>Cafe Hoang</td>\n",
       "      <td>3.8</td>\n",
       "      <td>2.278905</td>\n",
       "      <td>3.125057</td>\n",
       "      <td>1.549096</td>\n",
       "    </tr>\n",
       "    <tr>\n",
       "      <th>1652</th>\n",
       "      <td>1.0</td>\n",
       "      <td>62.973684</td>\n",
       "      <td>American, Contemporary American</td>\n",
       "      <td>Casual Dress</td>\n",
       "      <td>1.0</td>\n",
       "      <td>1.0</td>\n",
       "      <td>3.0</td>\n",
       "      <td>Reverie - Chicago</td>\n",
       "      <td>1.0</td>\n",
       "      <td>4.142717</td>\n",
       "      <td>7.935596</td>\n",
       "      <td>1.568481</td>\n",
       "    </tr>\n",
       "    <tr>\n",
       "      <th>1340</th>\n",
       "      <td>4.0</td>\n",
       "      <td>13.100000</td>\n",
       "      <td>Mexican, Latin / Spanish, Tapas / Small Plates</td>\n",
       "      <td>Business Casual</td>\n",
       "      <td>4.0</td>\n",
       "      <td>4.7</td>\n",
       "      <td>3.8</td>\n",
       "      <td>Modern Tea</td>\n",
       "      <td>3.8</td>\n",
       "      <td>2.572612</td>\n",
       "      <td>3.619392</td>\n",
       "      <td>1.860351</td>\n",
       "    </tr>\n",
       "    <tr>\n",
       "      <th>1578</th>\n",
       "      <td>3.4</td>\n",
       "      <td>9.687188</td>\n",
       "      <td>Barbecue, American</td>\n",
       "      <td>Casual Dress</td>\n",
       "      <td>4.1</td>\n",
       "      <td>4.0</td>\n",
       "      <td>3.9</td>\n",
       "      <td>Porkchop - Hyde Park</td>\n",
       "      <td>3.6</td>\n",
       "      <td>2.270804</td>\n",
       "      <td>3.112425</td>\n",
       "      <td>2.019433</td>\n",
       "    </tr>\n",
       "    <tr>\n",
       "      <th>2148</th>\n",
       "      <td>4.3</td>\n",
       "      <td>8.615385</td>\n",
       "      <td>Mediterranean, Turkish</td>\n",
       "      <td>AMEX, Discover, MasterCard, Visa</td>\n",
       "      <td>4.8</td>\n",
       "      <td>5.0</td>\n",
       "      <td>4.7</td>\n",
       "      <td>Tumi</td>\n",
       "      <td>4.7</td>\n",
       "      <td>2.153550</td>\n",
       "      <td>2.935198</td>\n",
       "      <td>2.027944</td>\n",
       "    </tr>\n",
       "    <tr>\n",
       "      <th>1586</th>\n",
       "      <td>3.7</td>\n",
       "      <td>6.729508</td>\n",
       "      <td>Steakhouse, American, Contemporary American</td>\n",
       "      <td>Business Casual</td>\n",
       "      <td>4.3</td>\n",
       "      <td>4.7</td>\n",
       "      <td>4.3</td>\n",
       "      <td>Pride Sushi and Thai</td>\n",
       "      <td>4.7</td>\n",
       "      <td>1.906502</td>\n",
       "      <td>2.594130</td>\n",
       "      <td>2.057075</td>\n",
       "    </tr>\n",
       "    <tr>\n",
       "      <th>1692</th>\n",
       "      <td>3.9</td>\n",
       "      <td>6.364569</td>\n",
       "      <td>Latin / Spanish, Contemporary Mexican, Bar / L...</td>\n",
       "      <td>Smart Casual</td>\n",
       "      <td>4.5</td>\n",
       "      <td>4.8</td>\n",
       "      <td>4.4</td>\n",
       "      <td>Rogue Fusion</td>\n",
       "      <td>4.6</td>\n",
       "      <td>1.850747</td>\n",
       "      <td>2.522810</td>\n",
       "      <td>2.082230</td>\n",
       "    </tr>\n",
       "    <tr>\n",
       "      <th>132</th>\n",
       "      <td>3.0</td>\n",
       "      <td>6.373913</td>\n",
       "      <td>Thai, Asian, Vietnamese</td>\n",
       "      <td>Business Casual</td>\n",
       "      <td>4.2</td>\n",
       "      <td>3.8</td>\n",
       "      <td>4.2</td>\n",
       "      <td>Band of Bohemia</td>\n",
       "      <td>3.8</td>\n",
       "      <td>1.852214</td>\n",
       "      <td>2.524661</td>\n",
       "      <td>2.097707</td>\n",
       "    </tr>\n",
       "    <tr>\n",
       "      <th>1262</th>\n",
       "      <td>3.9</td>\n",
       "      <td>9.768213</td>\n",
       "      <td>French American</td>\n",
       "      <td>$30 and under</td>\n",
       "      <td>4.6</td>\n",
       "      <td>4.5</td>\n",
       "      <td>4.5</td>\n",
       "      <td>Matsuya Japanese Restaurant</td>\n",
       "      <td>4.1</td>\n",
       "      <td>2.279134</td>\n",
       "      <td>3.125414</td>\n",
       "      <td>2.131664</td>\n",
       "    </tr>\n",
       "    <tr>\n",
       "      <th>1726</th>\n",
       "      <td>4.0</td>\n",
       "      <td>9.835766</td>\n",
       "      <td>Italian, Steak</td>\n",
       "      <td>Business Casual</td>\n",
       "      <td>4.8</td>\n",
       "      <td>4.4</td>\n",
       "      <td>4.6</td>\n",
       "      <td>S@kura fusion japanese &amp; Sushi Restaurant</td>\n",
       "      <td>3.8</td>\n",
       "      <td>2.286025</td>\n",
       "      <td>3.136203</td>\n",
       "      <td>2.161913</td>\n",
       "    </tr>\n",
       "    <tr>\n",
       "      <th>1579</th>\n",
       "      <td>2.5</td>\n",
       "      <td>7.056000</td>\n",
       "      <td>American, Comfort Food, Barbecue</td>\n",
       "      <td>Casual Dress</td>\n",
       "      <td>4.0</td>\n",
       "      <td>3.0</td>\n",
       "      <td>2.3</td>\n",
       "      <td>Porkchop - South Loop - Permanently Closed</td>\n",
       "      <td>3.0</td>\n",
       "      <td>1.953878</td>\n",
       "      <td>2.656313</td>\n",
       "      <td>2.169554</td>\n",
       "    </tr>\n",
       "    <tr>\n",
       "      <th>421</th>\n",
       "      <td>3.0</td>\n",
       "      <td>16.483516</td>\n",
       "      <td>Steakhouse, Seafood</td>\n",
       "      <td>Casual Dress</td>\n",
       "      <td>3.9</td>\n",
       "      <td>3.5</td>\n",
       "      <td>3.4</td>\n",
       "      <td>Chois Chinese Restaurant</td>\n",
       "      <td>3.7</td>\n",
       "      <td>2.802361</td>\n",
       "      <td>4.059990</td>\n",
       "      <td>2.213965</td>\n",
       "    </tr>\n",
       "    <tr>\n",
       "      <th>226</th>\n",
       "      <td>4.2</td>\n",
       "      <td>6.657303</td>\n",
       "      <td>Sushi</td>\n",
       "      <td>$30 and under</td>\n",
       "      <td>4.7</td>\n",
       "      <td>4.5</td>\n",
       "      <td>4.5</td>\n",
       "      <td>Blind Robin</td>\n",
       "      <td>3.9</td>\n",
       "      <td>1.895715</td>\n",
       "      <td>2.580175</td>\n",
       "      <td>2.238686</td>\n",
       "    </tr>\n",
       "    <tr>\n",
       "      <th>110</th>\n",
       "      <td>4.2</td>\n",
       "      <td>13.270115</td>\n",
       "      <td>Peruvian, Latin American, South American</td>\n",
       "      <td>Business Casual</td>\n",
       "      <td>4.7</td>\n",
       "      <td>4.6</td>\n",
       "      <td>4.4</td>\n",
       "      <td>Ay Ay Picante</td>\n",
       "      <td>4.3</td>\n",
       "      <td>2.585515</td>\n",
       "      <td>3.642817</td>\n",
       "      <td>2.239887</td>\n",
       "    </tr>\n",
       "    <tr>\n",
       "      <th>2064</th>\n",
       "      <td>3.8</td>\n",
       "      <td>10.074627</td>\n",
       "      <td>American, Comfort Food, Gastro Pub</td>\n",
       "      <td>Smart Casual</td>\n",
       "      <td>4.0</td>\n",
       "      <td>4.2</td>\n",
       "      <td>4.1</td>\n",
       "      <td>The Rosebud</td>\n",
       "      <td>4.1</td>\n",
       "      <td>2.310020</td>\n",
       "      <td>3.174055</td>\n",
       "      <td>2.243988</td>\n",
       "    </tr>\n",
       "    <tr>\n",
       "      <th>1052</th>\n",
       "      <td>3.6</td>\n",
       "      <td>7.655960</td>\n",
       "      <td>Sushi, Thai, Asian</td>\n",
       "      <td>Casual Dress</td>\n",
       "      <td>3.6</td>\n",
       "      <td>3.9</td>\n",
       "      <td>4.2</td>\n",
       "      <td>Kin Sushi and Thai Cuisine</td>\n",
       "      <td>3.3</td>\n",
       "      <td>2.035484</td>\n",
       "      <td>2.766941</td>\n",
       "      <td>2.262995</td>\n",
       "    </tr>\n",
       "    <tr>\n",
       "      <th>192</th>\n",
       "      <td>3.8</td>\n",
       "      <td>7.260870</td>\n",
       "      <td>Venezuelan, Latin American</td>\n",
       "      <td>$30 and under</td>\n",
       "      <td>4.4</td>\n",
       "      <td>4.3</td>\n",
       "      <td>4.4</td>\n",
       "      <td>Best Steak Hoagy</td>\n",
       "      <td>4.2</td>\n",
       "      <td>1.982500</td>\n",
       "      <td>2.694600</td>\n",
       "      <td>2.278412</td>\n",
       "    </tr>\n",
       "    <tr>\n",
       "      <th>669</th>\n",
       "      <td>3.9</td>\n",
       "      <td>10.436364</td>\n",
       "      <td>American</td>\n",
       "      <td>Casual Dress</td>\n",
       "      <td>4.4</td>\n",
       "      <td>4.4</td>\n",
       "      <td>4.3</td>\n",
       "      <td>Fatpour Tap Works</td>\n",
       "      <td>4.3</td>\n",
       "      <td>2.345296</td>\n",
       "      <td>3.230536</td>\n",
       "      <td>2.286071</td>\n",
       "    </tr>\n",
       "    <tr>\n",
       "      <th>1440</th>\n",
       "      <td>4.0</td>\n",
       "      <td>8.000000</td>\n",
       "      <td>American, Barbecue</td>\n",
       "      <td>Casual Dress</td>\n",
       "      <td>4.7</td>\n",
       "      <td>4.3</td>\n",
       "      <td>4.4</td>\n",
       "      <td>Old Crow Smokehouse - Lakeview</td>\n",
       "      <td>4.0</td>\n",
       "      <td>2.079442</td>\n",
       "      <td>2.828427</td>\n",
       "      <td>2.288224</td>\n",
       "    </tr>\n",
       "    <tr>\n",
       "      <th>182</th>\n",
       "      <td>4.1</td>\n",
       "      <td>14.447761</td>\n",
       "      <td>American</td>\n",
       "      <td>$30 and under</td>\n",
       "      <td>4.2</td>\n",
       "      <td>4.4</td>\n",
       "      <td>4.5</td>\n",
       "      <td>BellyQ</td>\n",
       "      <td>3.9</td>\n",
       "      <td>2.670539</td>\n",
       "      <td>3.801021</td>\n",
       "      <td>2.306430</td>\n",
       "    </tr>\n",
       "    <tr>\n",
       "      <th>593</th>\n",
       "      <td>3.8</td>\n",
       "      <td>12.940588</td>\n",
       "      <td>Mexican, Latin American</td>\n",
       "      <td>Casual Dress</td>\n",
       "      <td>4.5</td>\n",
       "      <td>4.3</td>\n",
       "      <td>4.5</td>\n",
       "      <td>El Maya</td>\n",
       "      <td>4.4</td>\n",
       "      <td>2.560369</td>\n",
       "      <td>3.597303</td>\n",
       "      <td>2.322642</td>\n",
       "    </tr>\n",
       "    <tr>\n",
       "      <th>655</th>\n",
       "      <td>4.5</td>\n",
       "      <td>2.166667</td>\n",
       "      <td>International</td>\n",
       "      <td>Casual Dress</td>\n",
       "      <td>4.7</td>\n",
       "      <td>5.0</td>\n",
       "      <td>4.9</td>\n",
       "      <td>Evolve Bistro</td>\n",
       "      <td>4.7</td>\n",
       "      <td>0.773190</td>\n",
       "      <td>1.471960</td>\n",
       "      <td>2.330618</td>\n",
       "    </tr>\n",
       "    <tr>\n",
       "      <th>1185</th>\n",
       "      <td>3.4</td>\n",
       "      <td>9.349375</td>\n",
       "      <td>Contemporary American, Bar / Lounge / Bottle S...</td>\n",
       "      <td>Smart Casual</td>\n",
       "      <td>3.8</td>\n",
       "      <td>3.5</td>\n",
       "      <td>3.7</td>\n",
       "      <td>Lokal - Wicker Park</td>\n",
       "      <td>3.2</td>\n",
       "      <td>2.235309</td>\n",
       "      <td>3.057675</td>\n",
       "      <td>2.341996</td>\n",
       "    </tr>\n",
       "    <tr>\n",
       "      <th>503</th>\n",
       "      <td>4.0</td>\n",
       "      <td>9.318182</td>\n",
       "      <td>Contemporary American</td>\n",
       "      <td>$30 and under</td>\n",
       "      <td>4.5</td>\n",
       "      <td>4.5</td>\n",
       "      <td>4.0</td>\n",
       "      <td>Dark Horse Tap &amp; Grille</td>\n",
       "      <td>5.0</td>\n",
       "      <td>2.231968</td>\n",
       "      <td>3.052570</td>\n",
       "      <td>2.348901</td>\n",
       "    </tr>\n",
       "    <tr>\n",
       "      <th>1613</th>\n",
       "      <td>3.8</td>\n",
       "      <td>12.223793</td>\n",
       "      <td>Indian</td>\n",
       "      <td>Casual Dress</td>\n",
       "      <td>4.2</td>\n",
       "      <td>4.0</td>\n",
       "      <td>4.5</td>\n",
       "      <td>RA Sushi Bar Restaurant - Chicago</td>\n",
       "      <td>4.0</td>\n",
       "      <td>2.503384</td>\n",
       "      <td>3.496254</td>\n",
       "      <td>2.352077</td>\n",
       "    </tr>\n",
       "    <tr>\n",
       "      <th>64</th>\n",
       "      <td>4.2</td>\n",
       "      <td>8.539521</td>\n",
       "      <td>Asian, Japanese, Thai</td>\n",
       "      <td>Casual Dress</td>\n",
       "      <td>4.5</td>\n",
       "      <td>4.6</td>\n",
       "      <td>4.5</td>\n",
       "      <td>Anna's Asian Grill and Sushi Bar</td>\n",
       "      <td>4.5</td>\n",
       "      <td>2.144705</td>\n",
       "      <td>2.922246</td>\n",
       "      <td>2.357387</td>\n",
       "    </tr>\n",
       "    <tr>\n",
       "      <th>1682</th>\n",
       "      <td>3.9</td>\n",
       "      <td>11.110213</td>\n",
       "      <td>Japanese, Thai, Sushi</td>\n",
       "      <td>Casual Dress</td>\n",
       "      <td>4.1</td>\n",
       "      <td>4.0</td>\n",
       "      <td>4.2</td>\n",
       "      <td>Rock Bottom Brewery Restaurant - Chicago</td>\n",
       "      <td>3.8</td>\n",
       "      <td>2.407865</td>\n",
       "      <td>3.333199</td>\n",
       "      <td>2.369617</td>\n",
       "    </tr>\n",
       "    <tr>\n",
       "      <th>...</th>\n",
       "      <td>...</td>\n",
       "      <td>...</td>\n",
       "      <td>...</td>\n",
       "      <td>...</td>\n",
       "      <td>...</td>\n",
       "      <td>...</td>\n",
       "      <td>...</td>\n",
       "      <td>...</td>\n",
       "      <td>...</td>\n",
       "      <td>...</td>\n",
       "      <td>...</td>\n",
       "      <td>...</td>\n",
       "    </tr>\n",
       "    <tr>\n",
       "      <th>516</th>\n",
       "      <td>4.6</td>\n",
       "      <td>21.820513</td>\n",
       "      <td>Steakhouse, Steak, Seafood</td>\n",
       "      <td>Business Casual</td>\n",
       "      <td>4.6</td>\n",
       "      <td>4.0</td>\n",
       "      <td>4.5</td>\n",
       "      <td>Del Frisco's Double Eagle Steak House - Chicago</td>\n",
       "      <td>4.5</td>\n",
       "      <td>3.082850</td>\n",
       "      <td>4.671243</td>\n",
       "      <td>3.016655</td>\n",
       "    </tr>\n",
       "    <tr>\n",
       "      <th>1298</th>\n",
       "      <td>4.7</td>\n",
       "      <td>19.952381</td>\n",
       "      <td>Contemporary American, American</td>\n",
       "      <td>Business Casual</td>\n",
       "      <td>4.4</td>\n",
       "      <td>4.1</td>\n",
       "      <td>4.6</td>\n",
       "      <td>Metro</td>\n",
       "      <td>4.5</td>\n",
       "      <td>2.993348</td>\n",
       "      <td>4.466809</td>\n",
       "      <td>3.020114</td>\n",
       "    </tr>\n",
       "    <tr>\n",
       "      <th>1299</th>\n",
       "      <td>4.7</td>\n",
       "      <td>19.952381</td>\n",
       "      <td>Mexican, French</td>\n",
       "      <td>Casual Dress</td>\n",
       "      <td>4.4</td>\n",
       "      <td>4.1</td>\n",
       "      <td>4.6</td>\n",
       "      <td>Metropolitan Club</td>\n",
       "      <td>4.5</td>\n",
       "      <td>2.993348</td>\n",
       "      <td>4.466809</td>\n",
       "      <td>3.020114</td>\n",
       "    </tr>\n",
       "    <tr>\n",
       "      <th>647</th>\n",
       "      <td>4.3</td>\n",
       "      <td>18.431373</td>\n",
       "      <td>Steakhouse, Italian</td>\n",
       "      <td>Business Casual</td>\n",
       "      <td>4.3</td>\n",
       "      <td>3.9</td>\n",
       "      <td>4.6</td>\n",
       "      <td>Erie Cafe</td>\n",
       "      <td>4.6</td>\n",
       "      <td>2.914054</td>\n",
       "      <td>4.293177</td>\n",
       "      <td>3.022762</td>\n",
       "    </tr>\n",
       "    <tr>\n",
       "      <th>1</th>\n",
       "      <td>4.5</td>\n",
       "      <td>7.440000</td>\n",
       "      <td>Contemporary American, Comfort Food, Bar / Lou...</td>\n",
       "      <td>Smart Casual</td>\n",
       "      <td>3.7</td>\n",
       "      <td>3.9</td>\n",
       "      <td>4.3</td>\n",
       "      <td>10pin Bowling Lounge</td>\n",
       "      <td>4.0</td>\n",
       "      <td>2.006871</td>\n",
       "      <td>2.727636</td>\n",
       "      <td>3.030080</td>\n",
       "    </tr>\n",
       "    <tr>\n",
       "      <th>387</th>\n",
       "      <td>4.3</td>\n",
       "      <td>30.904762</td>\n",
       "      <td>Steakhouse, Steak, Seafood</td>\n",
       "      <td>Business Casual</td>\n",
       "      <td>4.6</td>\n",
       "      <td>3.8</td>\n",
       "      <td>4.6</td>\n",
       "      <td>Chicago Bowl</td>\n",
       "      <td>4.6</td>\n",
       "      <td>3.430910</td>\n",
       "      <td>5.559205</td>\n",
       "      <td>3.030289</td>\n",
       "    </tr>\n",
       "    <tr>\n",
       "      <th>1058</th>\n",
       "      <td>4.0</td>\n",
       "      <td>33.168421</td>\n",
       "      <td>Steakhouse, Steak, Seafood</td>\n",
       "      <td>Business Casual</td>\n",
       "      <td>4.0</td>\n",
       "      <td>3.0</td>\n",
       "      <td>4.5</td>\n",
       "      <td>Kinmont - Permanently Closed</td>\n",
       "      <td>3.0</td>\n",
       "      <td>3.501598</td>\n",
       "      <td>5.759203</td>\n",
       "      <td>3.044361</td>\n",
       "    </tr>\n",
       "    <tr>\n",
       "      <th>1523</th>\n",
       "      <td>4.8</td>\n",
       "      <td>23.337838</td>\n",
       "      <td>Latin American, Steakhouse, Seafood</td>\n",
       "      <td>Casual Dress</td>\n",
       "      <td>4.8</td>\n",
       "      <td>4.2</td>\n",
       "      <td>4.7</td>\n",
       "      <td>Pelago</td>\n",
       "      <td>4.8</td>\n",
       "      <td>3.150076</td>\n",
       "      <td>4.830925</td>\n",
       "      <td>3.052642</td>\n",
       "    </tr>\n",
       "    <tr>\n",
       "      <th>1824</th>\n",
       "      <td>4.3</td>\n",
       "      <td>11.455556</td>\n",
       "      <td>Italian, Seafood, Steak</td>\n",
       "      <td>Business Casual</td>\n",
       "      <td>4.2</td>\n",
       "      <td>3.8</td>\n",
       "      <td>4.4</td>\n",
       "      <td>Sociale</td>\n",
       "      <td>4.5</td>\n",
       "      <td>2.438475</td>\n",
       "      <td>3.384606</td>\n",
       "      <td>3.061728</td>\n",
       "    </tr>\n",
       "    <tr>\n",
       "      <th>134</th>\n",
       "      <td>4.6</td>\n",
       "      <td>44.474747</td>\n",
       "      <td>Contemporary American, American</td>\n",
       "      <td>Casual Dress</td>\n",
       "      <td>4.4</td>\n",
       "      <td>3.9</td>\n",
       "      <td>4.5</td>\n",
       "      <td>Banpojung</td>\n",
       "      <td>4.3</td>\n",
       "      <td>3.794922</td>\n",
       "      <td>6.668939</td>\n",
       "      <td>3.068608</td>\n",
       "    </tr>\n",
       "    <tr>\n",
       "      <th>271</th>\n",
       "      <td>4.6</td>\n",
       "      <td>135.962687</td>\n",
       "      <td>French</td>\n",
       "      <td>Business Casual</td>\n",
       "      <td>4.6</td>\n",
       "      <td>3.9</td>\n",
       "      <td>4.6</td>\n",
       "      <td>Bridget Mcneills Incorporated</td>\n",
       "      <td>4.5</td>\n",
       "      <td>4.912380</td>\n",
       "      <td>11.660304</td>\n",
       "      <td>3.070529</td>\n",
       "    </tr>\n",
       "    <tr>\n",
       "      <th>680</th>\n",
       "      <td>4.1</td>\n",
       "      <td>36.209239</td>\n",
       "      <td>Italian, Farm-to-table, American</td>\n",
       "      <td>Casual Dress</td>\n",
       "      <td>3.6</td>\n",
       "      <td>3.3</td>\n",
       "      <td>3.9</td>\n",
       "      <td>Filini Restaurant and Bar-Radisson Blu Aqua Hotel</td>\n",
       "      <td>3.9</td>\n",
       "      <td>3.589314</td>\n",
       "      <td>6.017411</td>\n",
       "      <td>3.075924</td>\n",
       "    </tr>\n",
       "    <tr>\n",
       "      <th>431</th>\n",
       "      <td>4.6</td>\n",
       "      <td>74.671010</td>\n",
       "      <td>American, Traditional French, Continental</td>\n",
       "      <td>Business Casual</td>\n",
       "      <td>4.0</td>\n",
       "      <td>3.8</td>\n",
       "      <td>4.2</td>\n",
       "      <td>Circa restaurant &amp; lounge/Upstairs at The Gwen</td>\n",
       "      <td>4.2</td>\n",
       "      <td>4.313092</td>\n",
       "      <td>8.641239</td>\n",
       "      <td>3.077271</td>\n",
       "    </tr>\n",
       "    <tr>\n",
       "      <th>561</th>\n",
       "      <td>3.8</td>\n",
       "      <td>11.600000</td>\n",
       "      <td>American, Dessert</td>\n",
       "      <td>$30 and under</td>\n",
       "      <td>3.0</td>\n",
       "      <td>2.9</td>\n",
       "      <td>3.2</td>\n",
       "      <td>Dylan's Candy Bar - Chicago</td>\n",
       "      <td>3.2</td>\n",
       "      <td>2.451005</td>\n",
       "      <td>3.405877</td>\n",
       "      <td>3.077871</td>\n",
       "    </tr>\n",
       "    <tr>\n",
       "      <th>20</th>\n",
       "      <td>4.5</td>\n",
       "      <td>18.219512</td>\n",
       "      <td>Contemporary American, American</td>\n",
       "      <td>Smart Casual</td>\n",
       "      <td>4.3</td>\n",
       "      <td>3.9</td>\n",
       "      <td>4.5</td>\n",
       "      <td>676 Restaurant and Bar</td>\n",
       "      <td>4.5</td>\n",
       "      <td>2.902493</td>\n",
       "      <td>4.268432</td>\n",
       "      <td>3.087618</td>\n",
       "    </tr>\n",
       "    <tr>\n",
       "      <th>1935</th>\n",
       "      <td>4.6</td>\n",
       "      <td>11.565934</td>\n",
       "      <td>Steak, Seafood</td>\n",
       "      <td>Casual Dress</td>\n",
       "      <td>4.4</td>\n",
       "      <td>3.9</td>\n",
       "      <td>4.4</td>\n",
       "      <td>Tavern at the Park</td>\n",
       "      <td>4.4</td>\n",
       "      <td>2.448064</td>\n",
       "      <td>3.400873</td>\n",
       "      <td>3.097932</td>\n",
       "    </tr>\n",
       "    <tr>\n",
       "      <th>2013</th>\n",
       "      <td>4.2</td>\n",
       "      <td>12.137931</td>\n",
       "      <td>Steakhouse, American, Seafood</td>\n",
       "      <td>Smart Casual</td>\n",
       "      <td>4.0</td>\n",
       "      <td>3.6</td>\n",
       "      <td>4.5</td>\n",
       "      <td>The Grill on the Alley - Chicago</td>\n",
       "      <td>4.1</td>\n",
       "      <td>2.496335</td>\n",
       "      <td>3.483953</td>\n",
       "      <td>3.100073</td>\n",
       "    </tr>\n",
       "    <tr>\n",
       "      <th>429</th>\n",
       "      <td>4.7</td>\n",
       "      <td>22.565789</td>\n",
       "      <td>American, Comfort Food, Seafood</td>\n",
       "      <td>Smart Casual</td>\n",
       "      <td>4.4</td>\n",
       "      <td>3.9</td>\n",
       "      <td>4.6</td>\n",
       "      <td>Cinco De Mayo</td>\n",
       "      <td>4.2</td>\n",
       "      <td>3.116435</td>\n",
       "      <td>4.750346</td>\n",
       "      <td>3.106971</td>\n",
       "    </tr>\n",
       "    <tr>\n",
       "      <th>391</th>\n",
       "      <td>4.6</td>\n",
       "      <td>33.407692</td>\n",
       "      <td>Steakhouse, Seafood, Contemporary American</td>\n",
       "      <td>Business Casual</td>\n",
       "      <td>4.4</td>\n",
       "      <td>3.9</td>\n",
       "      <td>4.5</td>\n",
       "      <td>Chicago Diplomat Cafe</td>\n",
       "      <td>4.5</td>\n",
       "      <td>3.508786</td>\n",
       "      <td>5.779939</td>\n",
       "      <td>3.109707</td>\n",
       "    </tr>\n",
       "    <tr>\n",
       "      <th>430</th>\n",
       "      <td>3.2</td>\n",
       "      <td>12.532407</td>\n",
       "      <td>American</td>\n",
       "      <td>Casual Dress</td>\n",
       "      <td>3.5</td>\n",
       "      <td>2.2</td>\n",
       "      <td>3.3</td>\n",
       "      <td>Cindy's - Chicago Athletic Association Hotel</td>\n",
       "      <td>2.8</td>\n",
       "      <td>2.528318</td>\n",
       "      <td>3.540114</td>\n",
       "      <td>3.109809</td>\n",
       "    </tr>\n",
       "    <tr>\n",
       "      <th>46</th>\n",
       "      <td>4.3</td>\n",
       "      <td>16.414966</td>\n",
       "      <td>Contemporary American</td>\n",
       "      <td>Business Casual</td>\n",
       "      <td>4.2</td>\n",
       "      <td>3.6</td>\n",
       "      <td>4.4</td>\n",
       "      <td>Allium</td>\n",
       "      <td>4.2</td>\n",
       "      <td>2.798193</td>\n",
       "      <td>4.051539</td>\n",
       "      <td>3.118513</td>\n",
       "    </tr>\n",
       "    <tr>\n",
       "      <th>1947</th>\n",
       "      <td>4.5</td>\n",
       "      <td>16.000000</td>\n",
       "      <td>Global, International, American, French</td>\n",
       "      <td>Smart Casual</td>\n",
       "      <td>4.4</td>\n",
       "      <td>3.8</td>\n",
       "      <td>4.5</td>\n",
       "      <td>tesori</td>\n",
       "      <td>4.3</td>\n",
       "      <td>2.772589</td>\n",
       "      <td>4.000000</td>\n",
       "      <td>3.121909</td>\n",
       "    </tr>\n",
       "    <tr>\n",
       "      <th>919</th>\n",
       "      <td>4.6</td>\n",
       "      <td>15.695122</td>\n",
       "      <td>American</td>\n",
       "      <td>Smart Casual</td>\n",
       "      <td>4.5</td>\n",
       "      <td>3.9</td>\n",
       "      <td>4.5</td>\n",
       "      <td>III Forks - Chicago</td>\n",
       "      <td>4.6</td>\n",
       "      <td>2.753350</td>\n",
       "      <td>3.961707</td>\n",
       "      <td>3.126622</td>\n",
       "    </tr>\n",
       "    <tr>\n",
       "      <th>131</th>\n",
       "      <td>4.8</td>\n",
       "      <td>10.296610</td>\n",
       "      <td>Brewery, Contemporary American</td>\n",
       "      <td>Casual Dress</td>\n",
       "      <td>4.5</td>\n",
       "      <td>4.0</td>\n",
       "      <td>4.6</td>\n",
       "      <td>Banana Joes</td>\n",
       "      <td>4.6</td>\n",
       "      <td>2.331815</td>\n",
       "      <td>3.208833</td>\n",
       "      <td>3.187338</td>\n",
       "    </tr>\n",
       "    <tr>\n",
       "      <th>2029</th>\n",
       "      <td>4.4</td>\n",
       "      <td>14.555556</td>\n",
       "      <td>Afternoon Tea</td>\n",
       "      <td>$50 and over</td>\n",
       "      <td>4.4</td>\n",
       "      <td>3.7</td>\n",
       "      <td>4.5</td>\n",
       "      <td>The Lobby</td>\n",
       "      <td>4.4</td>\n",
       "      <td>2.677973</td>\n",
       "      <td>3.815174</td>\n",
       "      <td>3.187823</td>\n",
       "    </tr>\n",
       "    <tr>\n",
       "      <th>1514</th>\n",
       "      <td>4.8</td>\n",
       "      <td>24.444444</td>\n",
       "      <td>Italian</td>\n",
       "      <td>Casual Dress</td>\n",
       "      <td>4.5</td>\n",
       "      <td>4.0</td>\n",
       "      <td>4.7</td>\n",
       "      <td>Pavilion - The Langham, Chicago</td>\n",
       "      <td>4.6</td>\n",
       "      <td>3.196403</td>\n",
       "      <td>4.944132</td>\n",
       "      <td>3.189728</td>\n",
       "    </tr>\n",
       "    <tr>\n",
       "      <th>549</th>\n",
       "      <td>4.3</td>\n",
       "      <td>12.000000</td>\n",
       "      <td>Contemporary American</td>\n",
       "      <td>Business Casual</td>\n",
       "      <td>3.8</td>\n",
       "      <td>3.3</td>\n",
       "      <td>4.1</td>\n",
       "      <td>Drake Bros'</td>\n",
       "      <td>3.7</td>\n",
       "      <td>2.484907</td>\n",
       "      <td>3.464102</td>\n",
       "      <td>3.218824</td>\n",
       "    </tr>\n",
       "    <tr>\n",
       "      <th>716</th>\n",
       "      <td>4.4</td>\n",
       "      <td>62.465517</td>\n",
       "      <td>International, Steakhouse, Bar / Lounge / Bott...</td>\n",
       "      <td>Business Casual</td>\n",
       "      <td>3.7</td>\n",
       "      <td>3.3</td>\n",
       "      <td>4.1</td>\n",
       "      <td>Foundation Room House of Blues Chicago</td>\n",
       "      <td>3.9</td>\n",
       "      <td>4.134615</td>\n",
       "      <td>7.903513</td>\n",
       "      <td>3.253726</td>\n",
       "    </tr>\n",
       "    <tr>\n",
       "      <th>1466</th>\n",
       "      <td>3.6</td>\n",
       "      <td>16.534615</td>\n",
       "      <td>Italian, Pizzeria</td>\n",
       "      <td>Casual Dress</td>\n",
       "      <td>3.9</td>\n",
       "      <td>2.7</td>\n",
       "      <td>4.1</td>\n",
       "      <td>Osteria di Eataly - Eataly Chicago</td>\n",
       "      <td>3.6</td>\n",
       "      <td>2.805456</td>\n",
       "      <td>4.066278</td>\n",
       "      <td>3.258802</td>\n",
       "    </tr>\n",
       "    <tr>\n",
       "      <th>1830</th>\n",
       "      <td>4.2</td>\n",
       "      <td>12.320755</td>\n",
       "      <td>Italian</td>\n",
       "      <td>Casual Dress</td>\n",
       "      <td>4.0</td>\n",
       "      <td>3.3</td>\n",
       "      <td>4.0</td>\n",
       "      <td>Sophie's at Saks Fifth Avenue- Chicago</td>\n",
       "      <td>4.2</td>\n",
       "      <td>2.511285</td>\n",
       "      <td>3.510093</td>\n",
       "      <td>3.318179</td>\n",
       "    </tr>\n",
       "  </tbody>\n",
       "</table>\n",
       "<p>342 rows × 12 columns</p>\n",
       "</div>"
      ],
      "text/plain": [
       "      ambience_rating  average_price  \\\n",
       "1931              2.7       7.703704   \n",
       "1666              2.8       5.991379   \n",
       "262               5.0       5.920312   \n",
       "312               3.3       9.765984   \n",
       "1652              1.0      62.973684   \n",
       "1340              4.0      13.100000   \n",
       "1578              3.4       9.687188   \n",
       "2148              4.3       8.615385   \n",
       "1586              3.7       6.729508   \n",
       "1692              3.9       6.364569   \n",
       "132               3.0       6.373913   \n",
       "1262              3.9       9.768213   \n",
       "1726              4.0       9.835766   \n",
       "1579              2.5       7.056000   \n",
       "421               3.0      16.483516   \n",
       "226               4.2       6.657303   \n",
       "110               4.2      13.270115   \n",
       "2064              3.8      10.074627   \n",
       "1052              3.6       7.655960   \n",
       "192               3.8       7.260870   \n",
       "669               3.9      10.436364   \n",
       "1440              4.0       8.000000   \n",
       "182               4.1      14.447761   \n",
       "593               3.8      12.940588   \n",
       "655               4.5       2.166667   \n",
       "1185              3.4       9.349375   \n",
       "503               4.0       9.318182   \n",
       "1613              3.8      12.223793   \n",
       "64                4.2       8.539521   \n",
       "1682              3.9      11.110213   \n",
       "...               ...            ...   \n",
       "516               4.6      21.820513   \n",
       "1298              4.7      19.952381   \n",
       "1299              4.7      19.952381   \n",
       "647               4.3      18.431373   \n",
       "1                 4.5       7.440000   \n",
       "387               4.3      30.904762   \n",
       "1058              4.0      33.168421   \n",
       "1523              4.8      23.337838   \n",
       "1824              4.3      11.455556   \n",
       "134               4.6      44.474747   \n",
       "271               4.6     135.962687   \n",
       "680               4.1      36.209239   \n",
       "431               4.6      74.671010   \n",
       "561               3.8      11.600000   \n",
       "20                4.5      18.219512   \n",
       "1935              4.6      11.565934   \n",
       "2013              4.2      12.137931   \n",
       "429               4.7      22.565789   \n",
       "391               4.6      33.407692   \n",
       "430               3.2      12.532407   \n",
       "46                4.3      16.414966   \n",
       "1947              4.5      16.000000   \n",
       "919               4.6      15.695122   \n",
       "131               4.8      10.296610   \n",
       "2029              4.4      14.555556   \n",
       "1514              4.8      24.444444   \n",
       "549               4.3      12.000000   \n",
       "716               4.4      62.465517   \n",
       "1466              3.6      16.534615   \n",
       "1830              4.2      12.320755   \n",
       "\n",
       "                                           cuisine_type  \\\n",
       "1931                                 Sushi, Thai, Asian   \n",
       "1666                           Peruvian, South American   \n",
       "262                                           Brazilian   \n",
       "312                             Asian, Vietnamese, Thai   \n",
       "1652                    American, Contemporary American   \n",
       "1340     Mexican, Latin / Spanish, Tapas / Small Plates   \n",
       "1578                                 Barbecue, American   \n",
       "2148                             Mediterranean, Turkish   \n",
       "1586        Steakhouse, American, Contemporary American   \n",
       "1692  Latin / Spanish, Contemporary Mexican, Bar / L...   \n",
       "132                             Thai, Asian, Vietnamese   \n",
       "1262                                    French American   \n",
       "1726                                     Italian, Steak   \n",
       "1579                   American, Comfort Food, Barbecue   \n",
       "421                                 Steakhouse, Seafood   \n",
       "226                                               Sushi   \n",
       "110            Peruvian, Latin American, South American   \n",
       "2064                 American, Comfort Food, Gastro Pub   \n",
       "1052                                 Sushi, Thai, Asian   \n",
       "192                          Venezuelan, Latin American   \n",
       "669                                            American   \n",
       "1440                                 American, Barbecue   \n",
       "182                                            American   \n",
       "593                             Mexican, Latin American   \n",
       "655                                       International   \n",
       "1185  Contemporary American, Bar / Lounge / Bottle S...   \n",
       "503                               Contemporary American   \n",
       "1613                                             Indian   \n",
       "64                                Asian, Japanese, Thai   \n",
       "1682                              Japanese, Thai, Sushi   \n",
       "...                                                 ...   \n",
       "516                          Steakhouse, Steak, Seafood   \n",
       "1298                    Contemporary American, American   \n",
       "1299                                    Mexican, French   \n",
       "647                                 Steakhouse, Italian   \n",
       "1     Contemporary American, Comfort Food, Bar / Lou...   \n",
       "387                          Steakhouse, Steak, Seafood   \n",
       "1058                         Steakhouse, Steak, Seafood   \n",
       "1523                Latin American, Steakhouse, Seafood   \n",
       "1824                            Italian, Seafood, Steak   \n",
       "134                     Contemporary American, American   \n",
       "271                                              French   \n",
       "680                    Italian, Farm-to-table, American   \n",
       "431           American, Traditional French, Continental   \n",
       "561                                   American, Dessert   \n",
       "20                      Contemporary American, American   \n",
       "1935                                     Steak, Seafood   \n",
       "2013                      Steakhouse, American, Seafood   \n",
       "429                     American, Comfort Food, Seafood   \n",
       "391          Steakhouse, Seafood, Contemporary American   \n",
       "430                                            American   \n",
       "46                                Contemporary American   \n",
       "1947            Global, International, American, French   \n",
       "919                                            American   \n",
       "131                      Brewery, Contemporary American   \n",
       "2029                                      Afternoon Tea   \n",
       "1514                                            Italian   \n",
       "549                               Contemporary American   \n",
       "716   International, Steakhouse, Bar / Lounge / Bott...   \n",
       "1466                                  Italian, Pizzeria   \n",
       "1830                                            Italian   \n",
       "\n",
       "                            dress_code  food_rating  noise_rating  \\\n",
       "1931                      Casual Dress          3.1           5.0   \n",
       "1666                      Smart Casual          3.8           4.3   \n",
       "262                       Casual Dress          4.0           5.0   \n",
       "312                      $30 and under          3.8           4.8   \n",
       "1652                      Casual Dress          1.0           1.0   \n",
       "1340                   Business Casual          4.0           4.7   \n",
       "1578                      Casual Dress          4.1           4.0   \n",
       "2148  AMEX, Discover, MasterCard, Visa          4.8           5.0   \n",
       "1586                   Business Casual          4.3           4.7   \n",
       "1692                      Smart Casual          4.5           4.8   \n",
       "132                    Business Casual          4.2           3.8   \n",
       "1262                     $30 and under          4.6           4.5   \n",
       "1726                   Business Casual          4.8           4.4   \n",
       "1579                      Casual Dress          4.0           3.0   \n",
       "421                       Casual Dress          3.9           3.5   \n",
       "226                      $30 and under          4.7           4.5   \n",
       "110                    Business Casual          4.7           4.6   \n",
       "2064                      Smart Casual          4.0           4.2   \n",
       "1052                      Casual Dress          3.6           3.9   \n",
       "192                      $30 and under          4.4           4.3   \n",
       "669                       Casual Dress          4.4           4.4   \n",
       "1440                      Casual Dress          4.7           4.3   \n",
       "182                      $30 and under          4.2           4.4   \n",
       "593                       Casual Dress          4.5           4.3   \n",
       "655                       Casual Dress          4.7           5.0   \n",
       "1185                      Smart Casual          3.8           3.5   \n",
       "503                      $30 and under          4.5           4.5   \n",
       "1613                      Casual Dress          4.2           4.0   \n",
       "64                        Casual Dress          4.5           4.6   \n",
       "1682                      Casual Dress          4.1           4.0   \n",
       "...                                ...          ...           ...   \n",
       "516                    Business Casual          4.6           4.0   \n",
       "1298                   Business Casual          4.4           4.1   \n",
       "1299                      Casual Dress          4.4           4.1   \n",
       "647                    Business Casual          4.3           3.9   \n",
       "1                         Smart Casual          3.7           3.9   \n",
       "387                    Business Casual          4.6           3.8   \n",
       "1058                   Business Casual          4.0           3.0   \n",
       "1523                      Casual Dress          4.8           4.2   \n",
       "1824                   Business Casual          4.2           3.8   \n",
       "134                       Casual Dress          4.4           3.9   \n",
       "271                    Business Casual          4.6           3.9   \n",
       "680                       Casual Dress          3.6           3.3   \n",
       "431                    Business Casual          4.0           3.8   \n",
       "561                      $30 and under          3.0           2.9   \n",
       "20                        Smart Casual          4.3           3.9   \n",
       "1935                      Casual Dress          4.4           3.9   \n",
       "2013                      Smart Casual          4.0           3.6   \n",
       "429                       Smart Casual          4.4           3.9   \n",
       "391                    Business Casual          4.4           3.9   \n",
       "430                       Casual Dress          3.5           2.2   \n",
       "46                     Business Casual          4.2           3.6   \n",
       "1947                      Smart Casual          4.4           3.8   \n",
       "919                       Smart Casual          4.5           3.9   \n",
       "131                       Casual Dress          4.5           4.0   \n",
       "2029                      $50 and over          4.4           3.7   \n",
       "1514                      Casual Dress          4.5           4.0   \n",
       "549                    Business Casual          3.8           3.3   \n",
       "716                    Business Casual          3.7           3.3   \n",
       "1466                      Casual Dress          3.9           2.7   \n",
       "1830                      Casual Dress          4.0           3.3   \n",
       "\n",
       "      overall_rating                                         restaurant  \\\n",
       "1931             3.1                           Taste Sabores De America   \n",
       "1666             3.8                             Ringo Japanese Kitchen   \n",
       "262              3.0                                   Bravo Restaurant   \n",
       "312              4.2                                         Cafe Hoang   \n",
       "1652             3.0                                  Reverie - Chicago   \n",
       "1340             3.8                                         Modern Tea   \n",
       "1578             3.9                               Porkchop - Hyde Park   \n",
       "2148             4.7                                               Tumi   \n",
       "1586             4.3                               Pride Sushi and Thai   \n",
       "1692             4.4                                       Rogue Fusion   \n",
       "132              4.2                                    Band of Bohemia   \n",
       "1262             4.5                        Matsuya Japanese Restaurant   \n",
       "1726             4.6          S@kura fusion japanese & Sushi Restaurant   \n",
       "1579             2.3         Porkchop - South Loop - Permanently Closed   \n",
       "421              3.4                           Chois Chinese Restaurant   \n",
       "226              4.5                                        Blind Robin   \n",
       "110              4.4                                      Ay Ay Picante   \n",
       "2064             4.1                                        The Rosebud   \n",
       "1052             4.2                         Kin Sushi and Thai Cuisine   \n",
       "192              4.4                                   Best Steak Hoagy   \n",
       "669              4.3                                  Fatpour Tap Works   \n",
       "1440             4.4                     Old Crow Smokehouse - Lakeview   \n",
       "182              4.5                                             BellyQ   \n",
       "593              4.5                                            El Maya   \n",
       "655              4.9                                      Evolve Bistro   \n",
       "1185             3.7                                Lokal - Wicker Park   \n",
       "503              4.0                            Dark Horse Tap & Grille   \n",
       "1613             4.5                  RA Sushi Bar Restaurant - Chicago   \n",
       "64               4.5                   Anna's Asian Grill and Sushi Bar   \n",
       "1682             4.2           Rock Bottom Brewery Restaurant - Chicago   \n",
       "...              ...                                                ...   \n",
       "516              4.5    Del Frisco's Double Eagle Steak House - Chicago   \n",
       "1298             4.6                                              Metro   \n",
       "1299             4.6                                  Metropolitan Club   \n",
       "647              4.6                                          Erie Cafe   \n",
       "1                4.3                               10pin Bowling Lounge   \n",
       "387              4.6                                       Chicago Bowl   \n",
       "1058             4.5                       Kinmont - Permanently Closed   \n",
       "1523             4.7                                             Pelago   \n",
       "1824             4.4                                            Sociale   \n",
       "134              4.5                                          Banpojung   \n",
       "271              4.6                      Bridget Mcneills Incorporated   \n",
       "680              3.9  Filini Restaurant and Bar-Radisson Blu Aqua Hotel   \n",
       "431              4.2     Circa restaurant & lounge/Upstairs at The Gwen   \n",
       "561              3.2                        Dylan's Candy Bar - Chicago   \n",
       "20               4.5                             676 Restaurant and Bar   \n",
       "1935             4.4                                 Tavern at the Park   \n",
       "2013             4.5                   The Grill on the Alley - Chicago   \n",
       "429              4.6                                      Cinco De Mayo   \n",
       "391              4.5                              Chicago Diplomat Cafe   \n",
       "430              3.3       Cindy's - Chicago Athletic Association Hotel   \n",
       "46               4.4                                             Allium   \n",
       "1947             4.5                                             tesori   \n",
       "919              4.5                                III Forks - Chicago   \n",
       "131              4.6                                        Banana Joes   \n",
       "2029             4.5                                          The Lobby   \n",
       "1514             4.7                    Pavilion - The Langham, Chicago   \n",
       "549              4.1                                        Drake Bros'   \n",
       "716              4.1             Foundation Room House of Blues Chicago   \n",
       "1466             4.1                 Osteria di Eataly - Eataly Chicago   \n",
       "1830             4.0             Sophie's at Saks Fifth Avenue- Chicago   \n",
       "\n",
       "      service_rating  log_price  sqrt_price  y_log_pred  \n",
       "1931             2.9   2.041701    2.775555    0.388480  \n",
       "1666             3.0   1.790322    2.447729    1.179628  \n",
       "262              2.0   1.778389    2.433169    1.454732  \n",
       "312              3.8   2.278905    3.125057    1.549096  \n",
       "1652             1.0   4.142717    7.935596    1.568481  \n",
       "1340             3.8   2.572612    3.619392    1.860351  \n",
       "1578             3.6   2.270804    3.112425    2.019433  \n",
       "2148             4.7   2.153550    2.935198    2.027944  \n",
       "1586             4.7   1.906502    2.594130    2.057075  \n",
       "1692             4.6   1.850747    2.522810    2.082230  \n",
       "132              3.8   1.852214    2.524661    2.097707  \n",
       "1262             4.1   2.279134    3.125414    2.131664  \n",
       "1726             3.8   2.286025    3.136203    2.161913  \n",
       "1579             3.0   1.953878    2.656313    2.169554  \n",
       "421              3.7   2.802361    4.059990    2.213965  \n",
       "226              3.9   1.895715    2.580175    2.238686  \n",
       "110              4.3   2.585515    3.642817    2.239887  \n",
       "2064             4.1   2.310020    3.174055    2.243988  \n",
       "1052             3.3   2.035484    2.766941    2.262995  \n",
       "192              4.2   1.982500    2.694600    2.278412  \n",
       "669              4.3   2.345296    3.230536    2.286071  \n",
       "1440             4.0   2.079442    2.828427    2.288224  \n",
       "182              3.9   2.670539    3.801021    2.306430  \n",
       "593              4.4   2.560369    3.597303    2.322642  \n",
       "655              4.7   0.773190    1.471960    2.330618  \n",
       "1185             3.2   2.235309    3.057675    2.341996  \n",
       "503              5.0   2.231968    3.052570    2.348901  \n",
       "1613             4.0   2.503384    3.496254    2.352077  \n",
       "64               4.5   2.144705    2.922246    2.357387  \n",
       "1682             3.8   2.407865    3.333199    2.369617  \n",
       "...              ...        ...         ...         ...  \n",
       "516              4.5   3.082850    4.671243    3.016655  \n",
       "1298             4.5   2.993348    4.466809    3.020114  \n",
       "1299             4.5   2.993348    4.466809    3.020114  \n",
       "647              4.6   2.914054    4.293177    3.022762  \n",
       "1                4.0   2.006871    2.727636    3.030080  \n",
       "387              4.6   3.430910    5.559205    3.030289  \n",
       "1058             3.0   3.501598    5.759203    3.044361  \n",
       "1523             4.8   3.150076    4.830925    3.052642  \n",
       "1824             4.5   2.438475    3.384606    3.061728  \n",
       "134              4.3   3.794922    6.668939    3.068608  \n",
       "271              4.5   4.912380   11.660304    3.070529  \n",
       "680              3.9   3.589314    6.017411    3.075924  \n",
       "431              4.2   4.313092    8.641239    3.077271  \n",
       "561              3.2   2.451005    3.405877    3.077871  \n",
       "20               4.5   2.902493    4.268432    3.087618  \n",
       "1935             4.4   2.448064    3.400873    3.097932  \n",
       "2013             4.1   2.496335    3.483953    3.100073  \n",
       "429              4.2   3.116435    4.750346    3.106971  \n",
       "391              4.5   3.508786    5.779939    3.109707  \n",
       "430              2.8   2.528318    3.540114    3.109809  \n",
       "46               4.2   2.798193    4.051539    3.118513  \n",
       "1947             4.3   2.772589    4.000000    3.121909  \n",
       "919              4.6   2.753350    3.961707    3.126622  \n",
       "131              4.6   2.331815    3.208833    3.187338  \n",
       "2029             4.4   2.677973    3.815174    3.187823  \n",
       "1514             4.6   3.196403    4.944132    3.189728  \n",
       "549              3.7   2.484907    3.464102    3.218824  \n",
       "716              3.9   4.134615    7.903513    3.253726  \n",
       "1466             3.6   2.805456    4.066278    3.258802  \n",
       "1830             4.2   2.511285    3.510093    3.318179  \n",
       "\n",
       "[342 rows x 12 columns]"
      ]
     },
     "execution_count": 38,
     "metadata": {},
     "output_type": "execute_result"
    }
   ],
   "source": [
    "open_table.sort(columns='y_log_pred')"
   ]
  },
  {
   "cell_type": "markdown",
   "metadata": {},
   "source": [
    "Attempted to drop outlying value"
   ]
  },
  {
   "cell_type": "code",
   "execution_count": 39,
   "metadata": {
    "collapsed": false
   },
   "outputs": [],
   "source": [
    "open_table_noo = open_table.drop([1931])"
   ]
  },
  {
   "cell_type": "code",
   "execution_count": 40,
   "metadata": {
    "collapsed": true
   },
   "outputs": [],
   "source": [
    "y_log2 = open_table_noo['log_price']\n",
    "X_log2 = open_table_noo[['overall_rating', 'noise_rating', 'ambience_rating']]"
   ]
  },
  {
   "cell_type": "code",
   "execution_count": 41,
   "metadata": {
    "collapsed": false
   },
   "outputs": [],
   "source": [
    "scores3 = cross_val_predict(lr, X_log2, y_log2, cv=10)"
   ]
  },
  {
   "cell_type": "code",
   "execution_count": 42,
   "metadata": {
    "collapsed": false
   },
   "outputs": [
    {
     "data": {
      "image/png": "[encoded data removed]",
      "text/plain": [
       "<matplotlib.figure.Figure at 0x117c61588>"
      ]
     },
     "metadata": {},
     "output_type": "display_data"
    }
   ],
   "source": [
    "plt.scatter(scores3, y_log2, alpha =.5);"
   ]
  },
  {
   "cell_type": "markdown",
   "metadata": {},
   "source": [
    "## Actual vs. Predicted Y"
   ]
  },
  {
   "cell_type": "code",
   "execution_count": 53,
   "metadata": {
    "collapsed": false
   },
   "outputs": [
    {
     "data": {
      "image/png": "[encoded data removed]",
      "text/plain": [
       "<matplotlib.figure.Figure at 0x117ad8ef0>"
      ]
     },
     "metadata": {},
     "output_type": "display_data"
    }
   ],
   "source": [
    "sns.regplot(x='y_log_pred', y='log_price', data = open_table)\n",
    "plt.xlabel('Predicted Log of Average Price', fontsize = 15)\n",
    "plt.ylabel('Actual Log of Average Price', fontsize = 15)\n",
    "plt.title('Log of Average Price vs. Predicted Log of Average Price', fontsize = 15);"
   ]
  },
  {
   "cell_type": "code",
   "execution_count": 47,
   "metadata": {
    "collapsed": false
   },
   "outputs": [
    {
     "data": {
      "image/png": "[encoded data removed]",
      "text/plain": [
       "<matplotlib.figure.Figure at 0x117aa79b0>"
      ]
     },
     "metadata": {},
     "output_type": "display_data"
    }
   ],
   "source": [
    "plt.scatter(scores, y_log, alpha =.5);"
   ]
  },
  {
   "cell_type": "markdown",
   "metadata": {
    "heading_collapsed": true
   },
   "source": [
    "## Cross Validation"
   ]
  },
  {
   "cell_type": "code",
   "execution_count": 47,
   "metadata": {
    "collapsed": false,
    "hidden": true
   },
   "outputs": [
    {
     "name": "stdout",
     "output_type": "stream",
     "text": [
      "[ 0.11035963  0.15898888  0.18120093  0.2133047   0.04108454  0.2878497\n",
      "  0.26245505  0.12388761  0.03926837 -0.03592362]\n"
     ]
    }
   ],
   "source": [
    "scores2 = cross_val_score(lr, X_log, y_log, cv=10, scoring='r2')\n",
    "\n",
    "print(scores2)"
   ]
  },
  {
   "cell_type": "markdown",
   "metadata": {
    "hidden": true
   },
   "source": [
    "X with non-significant features removed"
   ]
  },
  {
   "cell_type": "code",
   "execution_count": 48,
   "metadata": {
    "collapsed": true,
    "hidden": true
   },
   "outputs": [],
   "source": [
    "X_log3 = open_table[['overall_rating', 'noise_rating','ambience_rating']]"
   ]
  },
  {
   "cell_type": "code",
   "execution_count": 49,
   "metadata": {
    "collapsed": false,
    "hidden": true
   },
   "outputs": [
    {
     "data": {
      "text/html": [
       "<table class=\"simpletable\">\n",
       "<caption>OLS Regression Results</caption>\n",
       "<tr>\n",
       "  <th>Dep. Variable:</th>        <td>log_price</td>    <th>  R-squared:         </th> <td>   0.957</td> \n",
       "</tr>\n",
       "<tr>\n",
       "  <th>Model:</th>                   <td>OLS</td>       <th>  Adj. R-squared:    </th> <td>   0.956</td> \n",
       "</tr>\n",
       "<tr>\n",
       "  <th>Method:</th>             <td>Least Squares</td>  <th>  F-statistic:       </th> <td>   2501.</td> \n",
       "</tr>\n",
       "<tr>\n",
       "  <th>Date:</th>             <td>Thu, 27 Apr 2017</td> <th>  Prob (F-statistic):</th> <td>8.58e-231</td>\n",
       "</tr>\n",
       "<tr>\n",
       "  <th>Time:</th>                 <td>15:38:40</td>     <th>  Log-Likelihood:    </th> <td> -297.42</td> \n",
       "</tr>\n",
       "<tr>\n",
       "  <th>No. Observations:</th>      <td>   342</td>      <th>  AIC:               </th> <td>   600.8</td> \n",
       "</tr>\n",
       "<tr>\n",
       "  <th>Df Residuals:</th>          <td>   339</td>      <th>  BIC:               </th> <td>   612.4</td> \n",
       "</tr>\n",
       "<tr>\n",
       "  <th>Df Model:</th>              <td>     3</td>      <th>                     </th>     <td> </td>    \n",
       "</tr>\n",
       "<tr>\n",
       "  <th>Covariance Type:</th>      <td>nonrobust</td>    <th>                     </th>     <td> </td>    \n",
       "</tr>\n",
       "</table>\n",
       "<table class=\"simpletable\">\n",
       "<tr>\n",
       "         <td></td>            <th>coef</th>     <th>std err</th>      <th>t</th>      <th>P>|t|</th> <th>[95.0% Conf. Int.]</th> \n",
       "</tr>\n",
       "<tr>\n",
       "  <th>overall_rating</th>  <td>    0.6698</td> <td>    0.118</td> <td>    5.659</td> <td> 0.000</td> <td>    0.437     0.903</td>\n",
       "</tr>\n",
       "<tr>\n",
       "  <th>noise_rating</th>    <td>   -0.6701</td> <td>    0.096</td> <td>   -6.981</td> <td> 0.000</td> <td>   -0.859    -0.481</td>\n",
       "</tr>\n",
       "<tr>\n",
       "  <th>ambience_rating</th> <td>    0.5819</td> <td>    0.112</td> <td>    5.184</td> <td> 0.000</td> <td>    0.361     0.803</td>\n",
       "</tr>\n",
       "</table>\n",
       "<table class=\"simpletable\">\n",
       "<tr>\n",
       "  <th>Omnibus:</th>       <td>78.014</td> <th>  Durbin-Watson:     </th> <td>   2.037</td>\n",
       "</tr>\n",
       "<tr>\n",
       "  <th>Prob(Omnibus):</th> <td> 0.000</td> <th>  Jarque-Bera (JB):  </th> <td> 144.119</td>\n",
       "</tr>\n",
       "<tr>\n",
       "  <th>Skew:</th>          <td> 1.244</td> <th>  Prob(JB):          </th> <td>5.07e-32</td>\n",
       "</tr>\n",
       "<tr>\n",
       "  <th>Kurtosis:</th>      <td> 4.981</td> <th>  Cond. No.          </th> <td>    35.6</td>\n",
       "</tr>\n",
       "</table>"
      ],
      "text/plain": [
       "<class 'statsmodels.iolib.summary.Summary'>\n",
       "\"\"\"\n",
       "                            OLS Regression Results                            \n",
       "==============================================================================\n",
       "Dep. Variable:              log_price   R-squared:                       0.957\n",
       "Model:                            OLS   Adj. R-squared:                  0.956\n",
       "Method:                 Least Squares   F-statistic:                     2501.\n",
       "Date:                Thu, 27 Apr 2017   Prob (F-statistic):          8.58e-231\n",
       "Time:                        15:38:40   Log-Likelihood:                -297.42\n",
       "No. Observations:                 342   AIC:                             600.8\n",
       "Df Residuals:                     339   BIC:                             612.4\n",
       "Df Model:                           3                                         \n",
       "Covariance Type:            nonrobust                                         \n",
       "===================================================================================\n",
       "                      coef    std err          t      P>|t|      [95.0% Conf. Int.]\n",
       "-----------------------------------------------------------------------------------\n",
       "overall_rating      0.6698      0.118      5.659      0.000         0.437     0.903\n",
       "noise_rating       -0.6701      0.096     -6.981      0.000        -0.859    -0.481\n",
       "ambience_rating     0.5819      0.112      5.184      0.000         0.361     0.803\n",
       "==============================================================================\n",
       "Omnibus:                       78.014   Durbin-Watson:                   2.037\n",
       "Prob(Omnibus):                  0.000   Jarque-Bera (JB):              144.119\n",
       "Skew:                           1.244   Prob(JB):                     5.07e-32\n",
       "Kurtosis:                       4.981   Cond. No.                         35.6\n",
       "==============================================================================\n",
       "\n",
       "Warnings:\n",
       "[1] Standard Errors assume that the covariance matrix of the errors is correctly specified.\n",
       "\"\"\""
      ]
     },
     "execution_count": 49,
     "metadata": {},
     "output_type": "execute_result"
    }
   ],
   "source": [
    "log_model2  = sm.OLS(y_log, X_log3)\n",
    "log_model_fit2 = log_model2.fit()\n",
    "log_model_fit2.summary()"
   ]
  },
  {
   "cell_type": "markdown",
   "metadata": {
    "hidden": true
   },
   "source": [
    "### Normalized X values"
   ]
  },
  {
   "cell_type": "code",
   "execution_count": 51,
   "metadata": {
    "collapsed": false,
    "hidden": true
   },
   "outputs": [],
   "source": [
    "normal_open_table = preprocessing.normalize(X_log, axis=0)"
   ]
  },
  {
   "cell_type": "markdown",
   "metadata": {
    "hidden": true
   },
   "source": [
    "### Ridge CV"
   ]
  },
  {
   "cell_type": "code",
   "execution_count": 52,
   "metadata": {
    "collapsed": false,
    "hidden": true
   },
   "outputs": [],
   "source": [
    "rcv = RidgeCV(cv=10, alphas=[10e-7, 10e-6, 10e-5, 10e-4, 10e-3, 10e-2, 10e-1], scoring = 'r2')"
   ]
  },
  {
   "cell_type": "code",
   "execution_count": 53,
   "metadata": {
    "collapsed": false,
    "hidden": true
   },
   "outputs": [
    {
     "data": {
      "text/plain": [
       "0.2020360840105524"
      ]
     },
     "execution_count": 53,
     "metadata": {},
     "output_type": "execute_result"
    }
   ],
   "source": [
    "rcv.fit(X_log, y_log)\n",
    "rcv.score(X_log, y_log)"
   ]
  },
  {
   "cell_type": "code",
   "execution_count": 54,
   "metadata": {
    "collapsed": false,
    "hidden": true
   },
   "outputs": [
    {
     "data": {
      "text/plain": [
       "1.0"
      ]
     },
     "execution_count": 54,
     "metadata": {},
     "output_type": "execute_result"
    }
   ],
   "source": [
    "rcv.alpha_"
   ]
  },
  {
   "cell_type": "code",
   "execution_count": 115,
   "metadata": {
    "collapsed": false,
    "hidden": true
   },
   "outputs": [
    {
     "data": {
      "text/plain": [
       "0.20386953849266409"
      ]
     },
     "execution_count": 115,
     "metadata": {},
     "output_type": "execute_result"
    }
   ],
   "source": [
    "rcv.fit(X_log2, y_log2)\n",
    "rcv.score(X_log2, y_log2)"
   ]
  },
  {
   "cell_type": "markdown",
   "metadata": {
    "hidden": true
   },
   "source": [
    "### Lasso CV"
   ]
  },
  {
   "cell_type": "code",
   "execution_count": 186,
   "metadata": {
    "collapsed": true,
    "hidden": true
   },
   "outputs": [],
   "source": [
    "LassoCV = sklearn.linear_model.LassoCV"
   ]
  },
  {
   "cell_type": "code",
   "execution_count": 188,
   "metadata": {
    "collapsed": false,
    "hidden": true
   },
   "outputs": [],
   "source": [
    "lcv = LassoCV(cv=10, alphas=[10e-7, 10e-6, 10e-5, 10e-4, 10e-3, 10e-2, 10e-1])"
   ]
  },
  {
   "cell_type": "code",
   "execution_count": 189,
   "metadata": {
    "collapsed": false,
    "hidden": true
   },
   "outputs": [
    {
     "data": {
      "text/plain": [
       "0.19047413447439521"
      ]
     },
     "execution_count": 189,
     "metadata": {},
     "output_type": "execute_result"
    }
   ],
   "source": [
    "lcv.fit(X_log, y_log)\n",
    "lcv.score(X_log, y_log)"
   ]
  },
  {
   "cell_type": "markdown",
   "metadata": {
    "hidden": true
   },
   "source": [
    "### Cross Val Score"
   ]
  },
  {
   "cell_type": "code",
   "execution_count": 192,
   "metadata": {
    "collapsed": false,
    "hidden": true
   },
   "outputs": [
    {
     "data": {
      "text/plain": [
       "0.13824757880430733"
      ]
     },
     "execution_count": 192,
     "metadata": {},
     "output_type": "execute_result"
    }
   ],
   "source": [
    "cv = cross_val_score(lr, X_log, y_log, cv=10, scoring='r2')\n",
    "cv.mean()"
   ]
  },
  {
   "cell_type": "markdown",
   "metadata": {
    "heading_collapsed": true
   },
   "source": [
    "## Plot average ratings"
   ]
  },
  {
   "cell_type": "code",
   "execution_count": 95,
   "metadata": {
    "collapsed": false,
    "hidden": true
   },
   "outputs": [],
   "source": [
    "XY = X_log.mean()"
   ]
  },
  {
   "cell_type": "code",
   "execution_count": 109,
   "metadata": {
    "collapsed": false,
    "hidden": true
   },
   "outputs": [
    {
     "data": {
      "image/png": "[encoded data removed]",
      "text/plain": [
       "<matplotlib.figure.Figure at 0x114e985f8>"
      ]
     },
     "metadata": {},
     "output_type": "display_data"
    }
   ],
   "source": [
    "N = 5\n",
    "\n",
    "ind = np.arange(N)  # the x locations for the groups\n",
    "width = 0.35       # the width of the bars\n",
    "\n",
    "fig, ax = plt.subplots()\n",
    "rects1 = ax.bar(ind, XY, width)\n",
    "\n",
    "# women_means = (25, 32, 34, 20, 25)\n",
    "# women_std = (3, 5, 2, 3, 3)\n",
    "# rects2 = ax.bar(ind + width, women_means, width, color='y', yerr=women_std)\n",
    "\n",
    "# add some text for labels, title and axes ticks\n",
    "ax.set_ylabel('Average Rating')\n",
    "ax.set_title('Average Rating by Rating Type')\n",
    "ax.set_xticks(ind + width / 2)\n",
    "ax.set_xticklabels(('Overall\\nRating', 'Noise\\nRating', 'Service\\nRating', 'Food\\nRating', 'Ambience\\nRating'));"
   ]
  }
 ],
 "metadata": {
  "kernelspec": {
   "display_name": "Python 3",
   "language": "python",
   "name": "python3"
  },
  "language_info": {
   "codemirror_mode": {
    "name": "ipython",
    "version": 3
   },
   "file_extension": ".py",
   "mimetype": "text/x-python",
   "name": "python",
   "nbconvert_exporter": "python",
   "pygments_lexer": "ipython3",
   "version": "3.6.0"
  },
  "toc": {
   "colors": {
    "hover_highlight": "#DAA520",
    "running_highlight": "#FF0000",
    "selected_highlight": "#FFD700"
   },
   "moveMenuLeft": true,
   "nav_menu": {
    "height": "12px",
    "width": "252px"
   },
   "navigate_menu": true,
   "number_sections": true,
   "sideBar": true,
   "threshold": 4,
   "toc_cell": false,
   "toc_section_display": "block",
   "toc_window_display": false,
   "widenNotebook": false
  }
 },
 "nbformat": 4,
 "nbformat_minor": 2
}
